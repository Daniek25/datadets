{
 "cells": [
  {
   "cell_type": "code",
   "execution_count": 1,
   "id": "a716f1f8",
   "metadata": {
    "_cell_guid": "b1076dfc-b9ad-4769-8c92-a6c4dae69d19",
    "_uuid": "8f2839f25d086af736a60e9eeb907d3b93b6e0e5",
    "execution": {
     "iopub.execute_input": "2022-06-30T02:54:30.961090Z",
     "iopub.status.busy": "2022-06-30T02:54:30.960354Z",
     "iopub.status.idle": "2022-06-30T02:54:32.556902Z",
     "shell.execute_reply": "2022-06-30T02:54:32.555662Z"
    },
    "papermill": {
     "duration": 1.608157,
     "end_time": "2022-06-30T02:54:32.560262",
     "exception": false,
     "start_time": "2022-06-30T02:54:30.952105",
     "status": "completed"
    },
    "tags": []
   },
   "outputs": [],
   "source": [
    "import numpy as np\n",
    "import pandas as pd\n",
    "import matplotlib.pyplot as plt\n",
    "%matplotlib inline\n",
    "import plotly.express as px"
   ]
  },
  {
   "cell_type": "code",
   "execution_count": 2,
   "id": "e07498f5",
   "metadata": {
    "execution": {
     "iopub.execute_input": "2022-06-30T02:54:32.573544Z",
     "iopub.status.busy": "2022-06-30T02:54:32.572860Z",
     "iopub.status.idle": "2022-06-30T02:54:32.597948Z",
     "shell.execute_reply": "2022-06-30T02:54:32.596652Z"
    },
    "papermill": {
     "duration": 0.034887,
     "end_time": "2022-06-30T02:54:32.600711",
     "exception": false,
     "start_time": "2022-06-30T02:54:32.565824",
     "status": "completed"
    },
    "tags": []
   },
   "outputs": [],
   "source": [
    "df = pd.read_csv('../input/all-the-satellites-in-the-orbit/AllSatellites.csv')"
   ]
  },
  {
   "cell_type": "code",
   "execution_count": 3,
   "id": "c3fae2f1",
   "metadata": {
    "execution": {
     "iopub.execute_input": "2022-06-30T02:54:32.613330Z",
     "iopub.status.busy": "2022-06-30T02:54:32.612902Z",
     "iopub.status.idle": "2022-06-30T02:54:32.635994Z",
     "shell.execute_reply": "2022-06-30T02:54:32.635155Z"
    },
    "papermill": {
     "duration": 0.032771,
     "end_time": "2022-06-30T02:54:32.638952",
     "exception": false,
     "start_time": "2022-06-30T02:54:32.606181",
     "status": "completed"
    },
    "tags": []
   },
   "outputs": [
    {
     "data": {
      "text/html": [
       "<div>\n",
       "<style scoped>\n",
       "    .dataframe tbody tr th:only-of-type {\n",
       "        vertical-align: middle;\n",
       "    }\n",
       "\n",
       "    .dataframe tbody tr th {\n",
       "        vertical-align: top;\n",
       "    }\n",
       "\n",
       "    .dataframe thead th {\n",
       "        text-align: right;\n",
       "    }\n",
       "</style>\n",
       "<table border=\"1\" class=\"dataframe\">\n",
       "  <thead>\n",
       "    <tr style=\"text-align: right;\">\n",
       "      <th></th>\n",
       "      <th>Name</th>\n",
       "      <th>Orbit Type</th>\n",
       "      <th>Orbit Height (km)</th>\n",
       "      <th>Repeat Cycle (days)</th>\n",
       "      <th>Launched in</th>\n",
       "      <th>Out of service since</th>\n",
       "      <th>Organisation</th>\n",
       "    </tr>\n",
       "  </thead>\n",
       "  <tbody>\n",
       "    <tr>\n",
       "      <th>0</th>\n",
       "      <td>\\n\\r\\n                            ADEOS\\r\\n   ...</td>\n",
       "      <td>Sun Synchronous</td>\n",
       "      <td>797</td>\n",
       "      <td>41</td>\n",
       "      <td>1996</td>\n",
       "      <td>1997</td>\n",
       "      <td>JAXA - Japan</td>\n",
       "    </tr>\n",
       "    <tr>\n",
       "      <th>1</th>\n",
       "      <td>\\n\\r\\n                            ADEOS-II\\r\\n...</td>\n",
       "      <td>Sun Synchronous</td>\n",
       "      <td>803</td>\n",
       "      <td>4</td>\n",
       "      <td>2002</td>\n",
       "      <td>2003</td>\n",
       "      <td>JAXA - Japan</td>\n",
       "    </tr>\n",
       "    <tr>\n",
       "      <th>2</th>\n",
       "      <td>\\n\\r\\n                            Aeolus\\r\\n  ...</td>\n",
       "      <td>Sun Synchronous</td>\n",
       "      <td>320</td>\n",
       "      <td>7</td>\n",
       "      <td>2018</td>\n",
       "      <td></td>\n",
       "      <td>ESA</td>\n",
       "    </tr>\n",
       "    <tr>\n",
       "      <th>3</th>\n",
       "      <td>\\n\\r\\n                            ALMAZ-1\\r\\n ...</td>\n",
       "      <td>Non Sun Synchronous</td>\n",
       "      <td>370</td>\n",
       "      <td></td>\n",
       "      <td>1991</td>\n",
       "      <td>1992</td>\n",
       "      <td>NPO - Mashinostroyeniya</td>\n",
       "    </tr>\n",
       "    <tr>\n",
       "      <th>4</th>\n",
       "      <td>\\n\\r\\n                            ALOS\\r\\n    ...</td>\n",
       "      <td>Sun Synchronous</td>\n",
       "      <td>702</td>\n",
       "      <td>46</td>\n",
       "      <td>2006</td>\n",
       "      <td>2011</td>\n",
       "      <td>JAXA - Japan</td>\n",
       "    </tr>\n",
       "  </tbody>\n",
       "</table>\n",
       "</div>"
      ],
      "text/plain": [
       "                                                Name           Orbit Type  \\\n",
       "0  \\n\\r\\n                            ADEOS\\r\\n   ...      Sun Synchronous   \n",
       "1  \\n\\r\\n                            ADEOS-II\\r\\n...      Sun Synchronous   \n",
       "2  \\n\\r\\n                            Aeolus\\r\\n  ...      Sun Synchronous   \n",
       "3  \\n\\r\\n                            ALMAZ-1\\r\\n ...  Non Sun Synchronous   \n",
       "4  \\n\\r\\n                            ALOS\\r\\n    ...      Sun Synchronous   \n",
       "\n",
       "  Orbit Height (km) Repeat Cycle (days) Launched in Out of service since  \\\n",
       "0               797                  41        1996                 1997   \n",
       "1               803                   4        2002                 2003   \n",
       "2               320                   7        2018                        \n",
       "3               370                            1991                 1992   \n",
       "4               702                  46        2006                 2011   \n",
       "\n",
       "              Organisation  \n",
       "0             JAXA - Japan  \n",
       "1             JAXA - Japan  \n",
       "2                      ESA  \n",
       "3  NPO - Mashinostroyeniya  \n",
       "4             JAXA - Japan  "
      ]
     },
     "execution_count": 3,
     "metadata": {},
     "output_type": "execute_result"
    }
   ],
   "source": [
    "df.head()"
   ]
  },
  {
   "cell_type": "code",
   "execution_count": 4,
   "id": "f9b6ba87",
   "metadata": {
    "execution": {
     "iopub.execute_input": "2022-06-30T02:54:32.652610Z",
     "iopub.status.busy": "2022-06-30T02:54:32.651918Z",
     "iopub.status.idle": "2022-06-30T02:54:32.678853Z",
     "shell.execute_reply": "2022-06-30T02:54:32.677336Z"
    },
    "papermill": {
     "duration": 0.037485,
     "end_time": "2022-06-30T02:54:32.682370",
     "exception": false,
     "start_time": "2022-06-30T02:54:32.644885",
     "status": "completed"
    },
    "tags": []
   },
   "outputs": [
    {
     "name": "stdout",
     "output_type": "stream",
     "text": [
      "<class 'pandas.core.frame.DataFrame'>\n",
      "RangeIndex: 337 entries, 0 to 336\n",
      "Data columns (total 7 columns):\n",
      " #   Column                Non-Null Count  Dtype \n",
      "---  ------                --------------  ----- \n",
      " 0   Name                  337 non-null    object\n",
      " 1   Orbit Type            337 non-null    object\n",
      " 2   Orbit Height (km)     337 non-null    object\n",
      " 3   Repeat Cycle (days)   337 non-null    object\n",
      " 4   Launched in           337 non-null    object\n",
      " 5   Out of service since  337 non-null    object\n",
      " 6   Organisation          337 non-null    object\n",
      "dtypes: object(7)\n",
      "memory usage: 18.6+ KB\n"
     ]
    }
   ],
   "source": [
    "df.info()"
   ]
  },
  {
   "cell_type": "code",
   "execution_count": 5,
   "id": "60ddbc06",
   "metadata": {
    "execution": {
     "iopub.execute_input": "2022-06-30T02:54:32.696895Z",
     "iopub.status.busy": "2022-06-30T02:54:32.696458Z",
     "iopub.status.idle": "2022-06-30T02:54:32.713459Z",
     "shell.execute_reply": "2022-06-30T02:54:32.712447Z"
    },
    "papermill": {
     "duration": 0.027751,
     "end_time": "2022-06-30T02:54:32.715945",
     "exception": false,
     "start_time": "2022-06-30T02:54:32.688194",
     "status": "completed"
    },
    "tags": []
   },
   "outputs": [],
   "source": [
    "df[\"Name\"]=df[\"Name\"].str.replace('\\n','')\n",
    "df[\"Name\"]=df[\"Name\"].str.replace('\\r','')\n",
    "df[\"Name\"]=df[\"Name\"].str.replace('-','')\n",
    "df[\"Name\"]=df[\"Name\"].str.replace(',','')\n",
    "df[\"Name\"]=df[\"Name\"].str.replace('/','')\n",
    "df[\"Name\"]=df[\"Name\"].str.replace(' ','')"
   ]
  },
  {
   "cell_type": "code",
   "execution_count": 6,
   "id": "cf0f09b0",
   "metadata": {
    "execution": {
     "iopub.execute_input": "2022-06-30T02:54:32.730746Z",
     "iopub.status.busy": "2022-06-30T02:54:32.729449Z",
     "iopub.status.idle": "2022-06-30T02:54:32.743518Z",
     "shell.execute_reply": "2022-06-30T02:54:32.742472Z"
    },
    "papermill": {
     "duration": 0.023923,
     "end_time": "2022-06-30T02:54:32.745915",
     "exception": false,
     "start_time": "2022-06-30T02:54:32.721992",
     "status": "completed"
    },
    "tags": []
   },
   "outputs": [
    {
     "data": {
      "text/html": [
       "<div>\n",
       "<style scoped>\n",
       "    .dataframe tbody tr th:only-of-type {\n",
       "        vertical-align: middle;\n",
       "    }\n",
       "\n",
       "    .dataframe tbody tr th {\n",
       "        vertical-align: top;\n",
       "    }\n",
       "\n",
       "    .dataframe thead th {\n",
       "        text-align: right;\n",
       "    }\n",
       "</style>\n",
       "<table border=\"1\" class=\"dataframe\">\n",
       "  <thead>\n",
       "    <tr style=\"text-align: right;\">\n",
       "      <th></th>\n",
       "      <th>Name</th>\n",
       "      <th>Orbit Type</th>\n",
       "      <th>Orbit Height (km)</th>\n",
       "      <th>Repeat Cycle (days)</th>\n",
       "      <th>Launched in</th>\n",
       "      <th>Out of service since</th>\n",
       "      <th>Organisation</th>\n",
       "    </tr>\n",
       "  </thead>\n",
       "  <tbody>\n",
       "    <tr>\n",
       "      <th>0</th>\n",
       "      <td>ADEOS</td>\n",
       "      <td>Sun Synchronous</td>\n",
       "      <td>797</td>\n",
       "      <td>41</td>\n",
       "      <td>1996</td>\n",
       "      <td>1997</td>\n",
       "      <td>JAXA - Japan</td>\n",
       "    </tr>\n",
       "    <tr>\n",
       "      <th>1</th>\n",
       "      <td>ADEOSII</td>\n",
       "      <td>Sun Synchronous</td>\n",
       "      <td>803</td>\n",
       "      <td>4</td>\n",
       "      <td>2002</td>\n",
       "      <td>2003</td>\n",
       "      <td>JAXA - Japan</td>\n",
       "    </tr>\n",
       "    <tr>\n",
       "      <th>2</th>\n",
       "      <td>Aeolus</td>\n",
       "      <td>Sun Synchronous</td>\n",
       "      <td>320</td>\n",
       "      <td>7</td>\n",
       "      <td>2018</td>\n",
       "      <td></td>\n",
       "      <td>ESA</td>\n",
       "    </tr>\n",
       "    <tr>\n",
       "      <th>3</th>\n",
       "      <td>ALMAZ1</td>\n",
       "      <td>Non Sun Synchronous</td>\n",
       "      <td>370</td>\n",
       "      <td></td>\n",
       "      <td>1991</td>\n",
       "      <td>1992</td>\n",
       "      <td>NPO - Mashinostroyeniya</td>\n",
       "    </tr>\n",
       "    <tr>\n",
       "      <th>4</th>\n",
       "      <td>ALOS</td>\n",
       "      <td>Sun Synchronous</td>\n",
       "      <td>702</td>\n",
       "      <td>46</td>\n",
       "      <td>2006</td>\n",
       "      <td>2011</td>\n",
       "      <td>JAXA - Japan</td>\n",
       "    </tr>\n",
       "  </tbody>\n",
       "</table>\n",
       "</div>"
      ],
      "text/plain": [
       "      Name           Orbit Type Orbit Height (km) Repeat Cycle (days)  \\\n",
       "0    ADEOS      Sun Synchronous               797                  41   \n",
       "1  ADEOSII      Sun Synchronous               803                   4   \n",
       "2   Aeolus      Sun Synchronous               320                   7   \n",
       "3   ALMAZ1  Non Sun Synchronous               370                       \n",
       "4     ALOS      Sun Synchronous               702                  46   \n",
       "\n",
       "  Launched in Out of service since             Organisation  \n",
       "0        1996                 1997             JAXA - Japan  \n",
       "1        2002                 2003             JAXA - Japan  \n",
       "2        2018                                           ESA  \n",
       "3        1991                 1992  NPO - Mashinostroyeniya  \n",
       "4        2006                 2011             JAXA - Japan  "
      ]
     },
     "execution_count": 6,
     "metadata": {},
     "output_type": "execute_result"
    }
   ],
   "source": [
    "df.head()"
   ]
  },
  {
   "cell_type": "code",
   "execution_count": 7,
   "id": "2e34798f",
   "metadata": {
    "execution": {
     "iopub.execute_input": "2022-06-30T02:54:32.760347Z",
     "iopub.status.busy": "2022-06-30T02:54:32.759541Z",
     "iopub.status.idle": "2022-06-30T02:54:32.833415Z",
     "shell.execute_reply": "2022-06-30T02:54:32.832115Z"
    },
    "papermill": {
     "duration": 0.084478,
     "end_time": "2022-06-30T02:54:32.836342",
     "exception": false,
     "start_time": "2022-06-30T02:54:32.751864",
     "status": "completed"
    },
    "tags": []
   },
   "outputs": [],
   "source": [
    "df['Organisation'].nunique() \n",
    "df[\"Organisation\"]=df[\"Organisation\"].str.replace('JAXA - Japan','Japan')\n",
    "df[\"Organisation\"]=df[\"Organisation\"].str.replace('J-spacesystems - Japan','Japan')\n",
    "df[\"Organisation\"]=df[\"Organisation\"].str.replace('NPO - Mashinostroyeniya','Mashinostroyeniya')\n",
    "df[\"Organisation\"]=df[\"Organisation\"].str.replace('NASA - USA','USA')\n",
    "df[\"Organisation\"]=df[\"Organisation\"].str.replace('ASAL - Algeria','Algeria')\n",
    "df[\"Organisation\"]=df[\"Organisation\"].str.replace('NRSCC - China','China')\n",
    "df[\"Organisation\"]=df[\"Organisation\"].str.replace('TUBITAK UZAY/STRI- Turkey','Turkey')\n",
    "df[\"Organisation\"]=df[\"Organisation\"].str.replace('DLR - Germany','Germany')\n",
    "df[\"Organisation\"]=df[\"Organisation\"].str.replace('BlackSky - USA','USA')\n",
    "df[\"Organisation\"]=df[\"Organisation\"].str.replace('ISRO - India','India')\n",
    "df[\"Organisation\"]=df[\"Organisation\"].str.replace('INPE - Brazil','Brazil')\n",
    "df[\"Organisation\"]=df[\"Organisation\"].str.replace('CNSA - China','China')\n",
    "df[\"Organisation\"]=df[\"Organisation\"].str.replace('US Naval Research Lab','USA')\n",
    "df[\"Organisation\"]=df[\"Organisation\"].str.replace('ASI - Italy','ASI - Italy')\n",
    "df[\"Organisation\"]=df[\"Organisation\"].str.replace('ROSCOSMOS - Russia','Russia')\n",
    "df[\"Organisation\"]=df[\"Organisation\"].str.replace('CAST - China','China')\n",
    "df[\"Organisation\"]=df[\"Organisation\"].str.replace('KARI - Korea','Korea')\n",
    "df[\"Organisation\"]=df[\"Organisation\"].str.replace('ImageSAT International','ESA')\n",
    "df[\"Organisation\"]=df[\"Organisation\"].str.replace('CNES - France','France')\n",
    "df[\"Organisation\"]=df[\"Organisation\"].str.replace('NOAA','USA')\n",
    "df[\"Organisation\"]=df[\"Organisation\"].str.replace('EUMETSAT','ESA')\n",
    "df[\"Organisation\"]=df[\"Organisation\"].str.replace('JMA - Japan','Japan')\n",
    "df[\"Organisation\"]=df[\"Organisation\"].str.replace('CSA - Canadian Space Agency','CANADA')\n",
    "df[\"Organisation\"]=df[\"Organisation\"].str.replace('NSPO - Taiwan','Taiwan')\n",
    "df[\"Organisation\"]=df[\"Organisation\"].str.replace('NSMC - China','China')\n",
    "df[\"Organisation\"]=df[\"Organisation\"].str.replace('Maxar/DigitalGlobe - USA','USA')\n",
    "df[\"Organisation\"]=df[\"Organisation\"].str.replace('US Department of Energy','USA')\n",
    "df[\"Organisation\"]=df[\"Organisation\"].str.replace('CONAE - Argentina','Argentina')\n",
    "df[\"Organisation\"]=df[\"Organisation\"].str.replace('ROSHYDROMET - Russia','Russia')\n",
    "df[\"Organisation\"]=df[\"Organisation\"].str.replace('SNSB - Sweden','Sweden')\n",
    "df[\"Organisation\"]=df[\"Organisation\"].str.replace('CSIRO - Australia','Australia')\n",
    "df[\"Organisation\"]=df[\"Organisation\"].str.replace('US Department of Defense','USA')\n",
    "df[\"Organisation\"]=df[\"Organisation\"].str.replace('UK Space Agency','UK')\n",
    "df[\"Organisation\"]=df[\"Organisation\"].str.replace('NASRDA - Nigeria','Nigeria')\n",
    "df[\"Organisation\"]=df[\"Organisation\"].str.replace('LAPAN - Indonesia','Indonesia')\n",
    "df[\"Organisation\"]=df[\"Organisation\"].str.replace('MDA - Canada','CANADA')\n",
    "df[\"Organisation\"]=df[\"Organisation\"].str.replace('Planet - USA','USA')\n",
    "df[\"Organisation\"]=df[\"Organisation\"].str.replace('IAI - Israel','Israel')\n",
    "df[\"Organisation\"]=df[\"Organisation\"].str.replace('Airbus Defence and Space','USA')\n",
    "df[\"Organisation\"]=df[\"Organisation\"].str.replace('ATSB - Malaysia','Malaysia')\n",
    "df[\"Organisation\"]=df[\"Organisation\"].str.replace('ICEYE - Finland','Finland')\n",
    "df[\"Organisation\"]=df[\"Organisation\"].str.replace('SSTL - UK','UK')\n",
    "df[\"Organisation\"]=df[\"Organisation\"].str.replace('GISTDA - Thailand','Thailand')\n",
    "df[\"Organisation\"]=df[\"Organisation\"].str.replace('NSAU - Ukraine','Ukraine')\n",
    "df[\"Organisation\"]=df[\"Organisation\"].str.replace('ASI - Italy','Italy')\n",
    "df[\"Organisation\"]=df[\"Organisation\"].str.replace('GEOSAT - Spain','Spain')\n",
    "df[\"Organisation\"]=df[\"Organisation\"].str.replace('CMA - China','China')\n",
    "df[\"Organisation\"]=df[\"Organisation\"].str.replace('UrtheCast - Canada','CANADA')\n",
    "df[\"Organisation\"]=df[\"Organisation\"].str.replace('earth-i','Russia')\n",
    "df[\"Organisation\"]=df[\"Organisation\"].str.replace('SSTL - UK','UK')"
   ]
  },
  {
   "cell_type": "markdown",
   "id": "b887d602",
   "metadata": {
    "papermill": {
     "duration": 0.005568,
     "end_time": "2022-06-30T02:54:32.847864",
     "exception": false,
     "start_time": "2022-06-30T02:54:32.842296",
     "status": "completed"
    },
    "tags": []
   },
   "source": [
    "# Top 5 organizations in satellite race"
   ]
  },
  {
   "cell_type": "code",
   "execution_count": 8,
   "id": "02e15967",
   "metadata": {
    "execution": {
     "iopub.execute_input": "2022-06-30T02:54:32.861482Z",
     "iopub.status.busy": "2022-06-30T02:54:32.861036Z",
     "iopub.status.idle": "2022-06-30T02:54:33.856821Z",
     "shell.execute_reply": "2022-06-30T02:54:33.855935Z"
    },
    "papermill": {
     "duration": 1.005215,
     "end_time": "2022-06-30T02:54:33.859001",
     "exception": false,
     "start_time": "2022-06-30T02:54:32.853786",
     "status": "completed"
    },
    "tags": []
   },
   "outputs": [
    {
     "data": {
      "text/html": [
       "        <script type=\"text/javascript\">\n",
       "        window.PlotlyConfig = {MathJaxConfig: 'local'};\n",
       "        if (window.MathJax && window.MathJax.Hub && window.MathJax.Hub.Config) {window.MathJax.Hub.Config({SVG: {font: \"STIX-Web\"}});}\n",
       "        if (typeof require !== 'undefined') {\n",
       "        require.undef(\"plotly\");\n",
       "        requirejs.config({\n",
       "            paths: {\n",
       "                'plotly': ['https://cdn.plot.ly/plotly-2.12.1.min']\n",
       "            }\n",
       "        });\n",
       "        require(['plotly'], function(Plotly) {\n",
       "            window._Plotly = Plotly;\n",
       "        });\n",
       "        }\n",
       "        </script>\n",
       "        "
      ]
     },
     "metadata": {},
     "output_type": "display_data"
    },
    {
     "data": {
      "text/html": [
       "<div>                            <div id=\"1c5e4265-629e-4a83-9c16-75ce41decbfc\" class=\"plotly-graph-div\" style=\"height:525px; width:100%;\"></div>            <script type=\"text/javascript\">                require([\"plotly\"], function(Plotly) {                    window.PLOTLYENV=window.PLOTLYENV || {};                                    if (document.getElementById(\"1c5e4265-629e-4a83-9c16-75ce41decbfc\")) {                    Plotly.newPlot(                        \"1c5e4265-629e-4a83-9c16-75ce41decbfc\",                        [{\"alignmentgroup\":\"True\",\"hovertemplate\":\"variable=Organisation<br>index=%{x}<br>value=%{y}<extra></extra>\",\"legendgroup\":\"Organisation\",\"marker\":{\"color\":\"#636efa\",\"pattern\":{\"shape\":\"\"}},\"name\":\"Organisation\",\"offsetgroup\":\"Organisation\",\"orientation\":\"v\",\"showlegend\":true,\"textposition\":\"auto\",\"x\":[\"USA\",\"ESA\",\"India\",\"Japan\",\"Russia\"],\"xaxis\":\"x\",\"y\":[117,53,34,20,19],\"yaxis\":\"y\",\"type\":\"bar\"}],                        {\"template\":{\"data\":{\"histogram2dcontour\":[{\"type\":\"histogram2dcontour\",\"colorbar\":{\"outlinewidth\":0,\"ticks\":\"\"},\"colorscale\":[[0.0,\"#0d0887\"],[0.1111111111111111,\"#46039f\"],[0.2222222222222222,\"#7201a8\"],[0.3333333333333333,\"#9c179e\"],[0.4444444444444444,\"#bd3786\"],[0.5555555555555556,\"#d8576b\"],[0.6666666666666666,\"#ed7953\"],[0.7777777777777778,\"#fb9f3a\"],[0.8888888888888888,\"#fdca26\"],[1.0,\"#f0f921\"]]}],\"choropleth\":[{\"type\":\"choropleth\",\"colorbar\":{\"outlinewidth\":0,\"ticks\":\"\"}}],\"histogram2d\":[{\"type\":\"histogram2d\",\"colorbar\":{\"outlinewidth\":0,\"ticks\":\"\"},\"colorscale\":[[0.0,\"#0d0887\"],[0.1111111111111111,\"#46039f\"],[0.2222222222222222,\"#7201a8\"],[0.3333333333333333,\"#9c179e\"],[0.4444444444444444,\"#bd3786\"],[0.5555555555555556,\"#d8576b\"],[0.6666666666666666,\"#ed7953\"],[0.7777777777777778,\"#fb9f3a\"],[0.8888888888888888,\"#fdca26\"],[1.0,\"#f0f921\"]]}],\"heatmap\":[{\"type\":\"heatmap\",\"colorbar\":{\"outlinewidth\":0,\"ticks\":\"\"},\"colorscale\":[[0.0,\"#0d0887\"],[0.1111111111111111,\"#46039f\"],[0.2222222222222222,\"#7201a8\"],[0.3333333333333333,\"#9c179e\"],[0.4444444444444444,\"#bd3786\"],[0.5555555555555556,\"#d8576b\"],[0.6666666666666666,\"#ed7953\"],[0.7777777777777778,\"#fb9f3a\"],[0.8888888888888888,\"#fdca26\"],[1.0,\"#f0f921\"]]}],\"heatmapgl\":[{\"type\":\"heatmapgl\",\"colorbar\":{\"outlinewidth\":0,\"ticks\":\"\"},\"colorscale\":[[0.0,\"#0d0887\"],[0.1111111111111111,\"#46039f\"],[0.2222222222222222,\"#7201a8\"],[0.3333333333333333,\"#9c179e\"],[0.4444444444444444,\"#bd3786\"],[0.5555555555555556,\"#d8576b\"],[0.6666666666666666,\"#ed7953\"],[0.7777777777777778,\"#fb9f3a\"],[0.8888888888888888,\"#fdca26\"],[1.0,\"#f0f921\"]]}],\"contourcarpet\":[{\"type\":\"contourcarpet\",\"colorbar\":{\"outlinewidth\":0,\"ticks\":\"\"}}],\"contour\":[{\"type\":\"contour\",\"colorbar\":{\"outlinewidth\":0,\"ticks\":\"\"},\"colorscale\":[[0.0,\"#0d0887\"],[0.1111111111111111,\"#46039f\"],[0.2222222222222222,\"#7201a8\"],[0.3333333333333333,\"#9c179e\"],[0.4444444444444444,\"#bd3786\"],[0.5555555555555556,\"#d8576b\"],[0.6666666666666666,\"#ed7953\"],[0.7777777777777778,\"#fb9f3a\"],[0.8888888888888888,\"#fdca26\"],[1.0,\"#f0f921\"]]}],\"surface\":[{\"type\":\"surface\",\"colorbar\":{\"outlinewidth\":0,\"ticks\":\"\"},\"colorscale\":[[0.0,\"#0d0887\"],[0.1111111111111111,\"#46039f\"],[0.2222222222222222,\"#7201a8\"],[0.3333333333333333,\"#9c179e\"],[0.4444444444444444,\"#bd3786\"],[0.5555555555555556,\"#d8576b\"],[0.6666666666666666,\"#ed7953\"],[0.7777777777777778,\"#fb9f3a\"],[0.8888888888888888,\"#fdca26\"],[1.0,\"#f0f921\"]]}],\"mesh3d\":[{\"type\":\"mesh3d\",\"colorbar\":{\"outlinewidth\":0,\"ticks\":\"\"}}],\"scatter\":[{\"fillpattern\":{\"fillmode\":\"overlay\",\"size\":10,\"solidity\":0.2},\"type\":\"scatter\"}],\"parcoords\":[{\"type\":\"parcoords\",\"line\":{\"colorbar\":{\"outlinewidth\":0,\"ticks\":\"\"}}}],\"scatterpolargl\":[{\"type\":\"scatterpolargl\",\"marker\":{\"colorbar\":{\"outlinewidth\":0,\"ticks\":\"\"}}}],\"bar\":[{\"error_x\":{\"color\":\"#2a3f5f\"},\"error_y\":{\"color\":\"#2a3f5f\"},\"marker\":{\"line\":{\"color\":\"#E5ECF6\",\"width\":0.5},\"pattern\":{\"fillmode\":\"overlay\",\"size\":10,\"solidity\":0.2}},\"type\":\"bar\"}],\"scattergeo\":[{\"type\":\"scattergeo\",\"marker\":{\"colorbar\":{\"outlinewidth\":0,\"ticks\":\"\"}}}],\"scatterpolar\":[{\"type\":\"scatterpolar\",\"marker\":{\"colorbar\":{\"outlinewidth\":0,\"ticks\":\"\"}}}],\"histogram\":[{\"marker\":{\"pattern\":{\"fillmode\":\"overlay\",\"size\":10,\"solidity\":0.2}},\"type\":\"histogram\"}],\"scattergl\":[{\"type\":\"scattergl\",\"marker\":{\"colorbar\":{\"outlinewidth\":0,\"ticks\":\"\"}}}],\"scatter3d\":[{\"type\":\"scatter3d\",\"line\":{\"colorbar\":{\"outlinewidth\":0,\"ticks\":\"\"}},\"marker\":{\"colorbar\":{\"outlinewidth\":0,\"ticks\":\"\"}}}],\"scattermapbox\":[{\"type\":\"scattermapbox\",\"marker\":{\"colorbar\":{\"outlinewidth\":0,\"ticks\":\"\"}}}],\"scatterternary\":[{\"type\":\"scatterternary\",\"marker\":{\"colorbar\":{\"outlinewidth\":0,\"ticks\":\"\"}}}],\"scattercarpet\":[{\"type\":\"scattercarpet\",\"marker\":{\"colorbar\":{\"outlinewidth\":0,\"ticks\":\"\"}}}],\"carpet\":[{\"aaxis\":{\"endlinecolor\":\"#2a3f5f\",\"gridcolor\":\"white\",\"linecolor\":\"white\",\"minorgridcolor\":\"white\",\"startlinecolor\":\"#2a3f5f\"},\"baxis\":{\"endlinecolor\":\"#2a3f5f\",\"gridcolor\":\"white\",\"linecolor\":\"white\",\"minorgridcolor\":\"white\",\"startlinecolor\":\"#2a3f5f\"},\"type\":\"carpet\"}],\"table\":[{\"cells\":{\"fill\":{\"color\":\"#EBF0F8\"},\"line\":{\"color\":\"white\"}},\"header\":{\"fill\":{\"color\":\"#C8D4E3\"},\"line\":{\"color\":\"white\"}},\"type\":\"table\"}],\"barpolar\":[{\"marker\":{\"line\":{\"color\":\"#E5ECF6\",\"width\":0.5},\"pattern\":{\"fillmode\":\"overlay\",\"size\":10,\"solidity\":0.2}},\"type\":\"barpolar\"}],\"pie\":[{\"automargin\":true,\"type\":\"pie\"}]},\"layout\":{\"autotypenumbers\":\"strict\",\"colorway\":[\"#636efa\",\"#EF553B\",\"#00cc96\",\"#ab63fa\",\"#FFA15A\",\"#19d3f3\",\"#FF6692\",\"#B6E880\",\"#FF97FF\",\"#FECB52\"],\"font\":{\"color\":\"#2a3f5f\"},\"hovermode\":\"closest\",\"hoverlabel\":{\"align\":\"left\"},\"paper_bgcolor\":\"white\",\"plot_bgcolor\":\"#E5ECF6\",\"polar\":{\"bgcolor\":\"#E5ECF6\",\"angularaxis\":{\"gridcolor\":\"white\",\"linecolor\":\"white\",\"ticks\":\"\"},\"radialaxis\":{\"gridcolor\":\"white\",\"linecolor\":\"white\",\"ticks\":\"\"}},\"ternary\":{\"bgcolor\":\"#E5ECF6\",\"aaxis\":{\"gridcolor\":\"white\",\"linecolor\":\"white\",\"ticks\":\"\"},\"baxis\":{\"gridcolor\":\"white\",\"linecolor\":\"white\",\"ticks\":\"\"},\"caxis\":{\"gridcolor\":\"white\",\"linecolor\":\"white\",\"ticks\":\"\"}},\"coloraxis\":{\"colorbar\":{\"outlinewidth\":0,\"ticks\":\"\"}},\"colorscale\":{\"sequential\":[[0.0,\"#0d0887\"],[0.1111111111111111,\"#46039f\"],[0.2222222222222222,\"#7201a8\"],[0.3333333333333333,\"#9c179e\"],[0.4444444444444444,\"#bd3786\"],[0.5555555555555556,\"#d8576b\"],[0.6666666666666666,\"#ed7953\"],[0.7777777777777778,\"#fb9f3a\"],[0.8888888888888888,\"#fdca26\"],[1.0,\"#f0f921\"]],\"sequentialminus\":[[0.0,\"#0d0887\"],[0.1111111111111111,\"#46039f\"],[0.2222222222222222,\"#7201a8\"],[0.3333333333333333,\"#9c179e\"],[0.4444444444444444,\"#bd3786\"],[0.5555555555555556,\"#d8576b\"],[0.6666666666666666,\"#ed7953\"],[0.7777777777777778,\"#fb9f3a\"],[0.8888888888888888,\"#fdca26\"],[1.0,\"#f0f921\"]],\"diverging\":[[0,\"#8e0152\"],[0.1,\"#c51b7d\"],[0.2,\"#de77ae\"],[0.3,\"#f1b6da\"],[0.4,\"#fde0ef\"],[0.5,\"#f7f7f7\"],[0.6,\"#e6f5d0\"],[0.7,\"#b8e186\"],[0.8,\"#7fbc41\"],[0.9,\"#4d9221\"],[1,\"#276419\"]]},\"xaxis\":{\"gridcolor\":\"white\",\"linecolor\":\"white\",\"ticks\":\"\",\"title\":{\"standoff\":15},\"zerolinecolor\":\"white\",\"automargin\":true,\"zerolinewidth\":2},\"yaxis\":{\"gridcolor\":\"white\",\"linecolor\":\"white\",\"ticks\":\"\",\"title\":{\"standoff\":15},\"zerolinecolor\":\"white\",\"automargin\":true,\"zerolinewidth\":2},\"scene\":{\"xaxis\":{\"backgroundcolor\":\"#E5ECF6\",\"gridcolor\":\"white\",\"linecolor\":\"white\",\"showbackground\":true,\"ticks\":\"\",\"zerolinecolor\":\"white\",\"gridwidth\":2},\"yaxis\":{\"backgroundcolor\":\"#E5ECF6\",\"gridcolor\":\"white\",\"linecolor\":\"white\",\"showbackground\":true,\"ticks\":\"\",\"zerolinecolor\":\"white\",\"gridwidth\":2},\"zaxis\":{\"backgroundcolor\":\"#E5ECF6\",\"gridcolor\":\"white\",\"linecolor\":\"white\",\"showbackground\":true,\"ticks\":\"\",\"zerolinecolor\":\"white\",\"gridwidth\":2}},\"shapedefaults\":{\"line\":{\"color\":\"#2a3f5f\"}},\"annotationdefaults\":{\"arrowcolor\":\"#2a3f5f\",\"arrowhead\":0,\"arrowwidth\":1},\"geo\":{\"bgcolor\":\"white\",\"landcolor\":\"#E5ECF6\",\"subunitcolor\":\"white\",\"showland\":true,\"showlakes\":true,\"lakecolor\":\"white\"},\"title\":{\"x\":0.05},\"mapbox\":{\"style\":\"light\"}}},\"xaxis\":{\"anchor\":\"y\",\"domain\":[0.0,1.0],\"title\":{\"text\":\"index\"}},\"yaxis\":{\"anchor\":\"x\",\"domain\":[0.0,1.0],\"title\":{\"text\":\"value\"}},\"legend\":{\"title\":{\"text\":\"variable\"},\"tracegroupgap\":0},\"margin\":{\"t\":60},\"barmode\":\"relative\"},                        {\"responsive\": true}                    ).then(function(){\n",
       "                            \n",
       "var gd = document.getElementById('1c5e4265-629e-4a83-9c16-75ce41decbfc');\n",
       "var x = new MutationObserver(function (mutations, observer) {{\n",
       "        var display = window.getComputedStyle(gd).display;\n",
       "        if (!display || display === 'none') {{\n",
       "            console.log([gd, 'removed!']);\n",
       "            Plotly.purge(gd);\n",
       "            observer.disconnect();\n",
       "        }}\n",
       "}});\n",
       "\n",
       "// Listen for the removal of the full notebook cells\n",
       "var notebookContainer = gd.closest('#notebook-container');\n",
       "if (notebookContainer) {{\n",
       "    x.observe(notebookContainer, {childList: true});\n",
       "}}\n",
       "\n",
       "// Listen for the clearing of the current output cell\n",
       "var outputEl = gd.closest('.output');\n",
       "if (outputEl) {{\n",
       "    x.observe(outputEl, {childList: true});\n",
       "}}\n",
       "\n",
       "                        })                };                });            </script>        </div>"
      ]
     },
     "metadata": {},
     "output_type": "display_data"
    }
   ],
   "source": [
    "fig = px.bar(df['Organisation'].value_counts().head(5))\n",
    "fig.show()"
   ]
  },
  {
   "cell_type": "code",
   "execution_count": 9,
   "id": "b7db9fc3",
   "metadata": {
    "execution": {
     "iopub.execute_input": "2022-06-30T02:54:33.874132Z",
     "iopub.status.busy": "2022-06-30T02:54:33.873558Z",
     "iopub.status.idle": "2022-06-30T02:54:33.879286Z",
     "shell.execute_reply": "2022-06-30T02:54:33.878456Z"
    },
    "papermill": {
     "duration": 0.01624,
     "end_time": "2022-06-30T02:54:33.881599",
     "exception": false,
     "start_time": "2022-06-30T02:54:33.865359",
     "status": "completed"
    },
    "tags": []
   },
   "outputs": [
    {
     "data": {
      "text/plain": [
       "Index(['Name', 'Orbit Type', 'Orbit Height (km)', 'Repeat Cycle (days)',\n",
       "       'Launched in', 'Out of service since', 'Organisation'],\n",
       "      dtype='object')"
      ]
     },
     "execution_count": 9,
     "metadata": {},
     "output_type": "execute_result"
    }
   ],
   "source": [
    "df.columns"
   ]
  },
  {
   "cell_type": "code",
   "execution_count": 10,
   "id": "e74e7cbb",
   "metadata": {
    "execution": {
     "iopub.execute_input": "2022-06-30T02:54:33.896482Z",
     "iopub.status.busy": "2022-06-30T02:54:33.896062Z",
     "iopub.status.idle": "2022-06-30T02:54:33.969985Z",
     "shell.execute_reply": "2022-06-30T02:54:33.968861Z"
    },
    "papermill": {
     "duration": 0.084286,
     "end_time": "2022-06-30T02:54:33.972422",
     "exception": false,
     "start_time": "2022-06-30T02:54:33.888136",
     "status": "completed"
    },
    "tags": []
   },
   "outputs": [
    {
     "data": {
      "text/html": [
       "<div>                            <div id=\"4dbc80aa-ee4b-4d95-a88c-f994cba484df\" class=\"plotly-graph-div\" style=\"height:525px; width:100%;\"></div>            <script type=\"text/javascript\">                require([\"plotly\"], function(Plotly) {                    window.PLOTLYENV=window.PLOTLYENV || {};                                    if (document.getElementById(\"4dbc80aa-ee4b-4d95-a88c-f994cba484df\")) {                    Plotly.newPlot(                        \"4dbc80aa-ee4b-4d95-a88c-f994cba484df\",                        [{\"alignmentgroup\":\"True\",\"hovertemplate\":\"variable=Out of service since<br>index=%{x}<br>value=%{y}<extra></extra>\",\"legendgroup\":\"Out of service since\",\"marker\":{\"color\":\"#636efa\",\"pattern\":{\"shape\":\"\"}},\"name\":\"Out of service since\",\"offsetgroup\":\"Out of service since\",\"orientation\":\"v\",\"showlegend\":true,\"textposition\":\"auto\",\"x\":[\"2013\",\"2007\",\"2015\",\"2011\",\"2010\",\"2006\",\"2016\",\"2003\",\"2020\",\"2000\",\"2017\",\"2012\",\"2009\",\"2018\",\"2019\",\"2004\",\"2021\",\"2001\",\"2005\",\"1978\",\"1996\",\"2014\",\"1997\",\"1995\",\"2008\",\"1998\",\"1982\",\"1983\",\"2002\",\"1992\",\"1994\"],\"xaxis\":\"x\",\"y\":[12,8,7,6,6,6,5,5,5,4,4,4,4,4,4,4,3,3,3,2,2,2,2,2,2,1,1,1,1,1,1],\"yaxis\":\"y\",\"type\":\"bar\"}],                        {\"template\":{\"data\":{\"histogram2dcontour\":[{\"type\":\"histogram2dcontour\",\"colorbar\":{\"outlinewidth\":0,\"ticks\":\"\"},\"colorscale\":[[0.0,\"#0d0887\"],[0.1111111111111111,\"#46039f\"],[0.2222222222222222,\"#7201a8\"],[0.3333333333333333,\"#9c179e\"],[0.4444444444444444,\"#bd3786\"],[0.5555555555555556,\"#d8576b\"],[0.6666666666666666,\"#ed7953\"],[0.7777777777777778,\"#fb9f3a\"],[0.8888888888888888,\"#fdca26\"],[1.0,\"#f0f921\"]]}],\"choropleth\":[{\"type\":\"choropleth\",\"colorbar\":{\"outlinewidth\":0,\"ticks\":\"\"}}],\"histogram2d\":[{\"type\":\"histogram2d\",\"colorbar\":{\"outlinewidth\":0,\"ticks\":\"\"},\"colorscale\":[[0.0,\"#0d0887\"],[0.1111111111111111,\"#46039f\"],[0.2222222222222222,\"#7201a8\"],[0.3333333333333333,\"#9c179e\"],[0.4444444444444444,\"#bd3786\"],[0.5555555555555556,\"#d8576b\"],[0.6666666666666666,\"#ed7953\"],[0.7777777777777778,\"#fb9f3a\"],[0.8888888888888888,\"#fdca26\"],[1.0,\"#f0f921\"]]}],\"heatmap\":[{\"type\":\"heatmap\",\"colorbar\":{\"outlinewidth\":0,\"ticks\":\"\"},\"colorscale\":[[0.0,\"#0d0887\"],[0.1111111111111111,\"#46039f\"],[0.2222222222222222,\"#7201a8\"],[0.3333333333333333,\"#9c179e\"],[0.4444444444444444,\"#bd3786\"],[0.5555555555555556,\"#d8576b\"],[0.6666666666666666,\"#ed7953\"],[0.7777777777777778,\"#fb9f3a\"],[0.8888888888888888,\"#fdca26\"],[1.0,\"#f0f921\"]]}],\"heatmapgl\":[{\"type\":\"heatmapgl\",\"colorbar\":{\"outlinewidth\":0,\"ticks\":\"\"},\"colorscale\":[[0.0,\"#0d0887\"],[0.1111111111111111,\"#46039f\"],[0.2222222222222222,\"#7201a8\"],[0.3333333333333333,\"#9c179e\"],[0.4444444444444444,\"#bd3786\"],[0.5555555555555556,\"#d8576b\"],[0.6666666666666666,\"#ed7953\"],[0.7777777777777778,\"#fb9f3a\"],[0.8888888888888888,\"#fdca26\"],[1.0,\"#f0f921\"]]}],\"contourcarpet\":[{\"type\":\"contourcarpet\",\"colorbar\":{\"outlinewidth\":0,\"ticks\":\"\"}}],\"contour\":[{\"type\":\"contour\",\"colorbar\":{\"outlinewidth\":0,\"ticks\":\"\"},\"colorscale\":[[0.0,\"#0d0887\"],[0.1111111111111111,\"#46039f\"],[0.2222222222222222,\"#7201a8\"],[0.3333333333333333,\"#9c179e\"],[0.4444444444444444,\"#bd3786\"],[0.5555555555555556,\"#d8576b\"],[0.6666666666666666,\"#ed7953\"],[0.7777777777777778,\"#fb9f3a\"],[0.8888888888888888,\"#fdca26\"],[1.0,\"#f0f921\"]]}],\"surface\":[{\"type\":\"surface\",\"colorbar\":{\"outlinewidth\":0,\"ticks\":\"\"},\"colorscale\":[[0.0,\"#0d0887\"],[0.1111111111111111,\"#46039f\"],[0.2222222222222222,\"#7201a8\"],[0.3333333333333333,\"#9c179e\"],[0.4444444444444444,\"#bd3786\"],[0.5555555555555556,\"#d8576b\"],[0.6666666666666666,\"#ed7953\"],[0.7777777777777778,\"#fb9f3a\"],[0.8888888888888888,\"#fdca26\"],[1.0,\"#f0f921\"]]}],\"mesh3d\":[{\"type\":\"mesh3d\",\"colorbar\":{\"outlinewidth\":0,\"ticks\":\"\"}}],\"scatter\":[{\"fillpattern\":{\"fillmode\":\"overlay\",\"size\":10,\"solidity\":0.2},\"type\":\"scatter\"}],\"parcoords\":[{\"type\":\"parcoords\",\"line\":{\"colorbar\":{\"outlinewidth\":0,\"ticks\":\"\"}}}],\"scatterpolargl\":[{\"type\":\"scatterpolargl\",\"marker\":{\"colorbar\":{\"outlinewidth\":0,\"ticks\":\"\"}}}],\"bar\":[{\"error_x\":{\"color\":\"#2a3f5f\"},\"error_y\":{\"color\":\"#2a3f5f\"},\"marker\":{\"line\":{\"color\":\"#E5ECF6\",\"width\":0.5},\"pattern\":{\"fillmode\":\"overlay\",\"size\":10,\"solidity\":0.2}},\"type\":\"bar\"}],\"scattergeo\":[{\"type\":\"scattergeo\",\"marker\":{\"colorbar\":{\"outlinewidth\":0,\"ticks\":\"\"}}}],\"scatterpolar\":[{\"type\":\"scatterpolar\",\"marker\":{\"colorbar\":{\"outlinewidth\":0,\"ticks\":\"\"}}}],\"histogram\":[{\"marker\":{\"pattern\":{\"fillmode\":\"overlay\",\"size\":10,\"solidity\":0.2}},\"type\":\"histogram\"}],\"scattergl\":[{\"type\":\"scattergl\",\"marker\":{\"colorbar\":{\"outlinewidth\":0,\"ticks\":\"\"}}}],\"scatter3d\":[{\"type\":\"scatter3d\",\"line\":{\"colorbar\":{\"outlinewidth\":0,\"ticks\":\"\"}},\"marker\":{\"colorbar\":{\"outlinewidth\":0,\"ticks\":\"\"}}}],\"scattermapbox\":[{\"type\":\"scattermapbox\",\"marker\":{\"colorbar\":{\"outlinewidth\":0,\"ticks\":\"\"}}}],\"scatterternary\":[{\"type\":\"scatterternary\",\"marker\":{\"colorbar\":{\"outlinewidth\":0,\"ticks\":\"\"}}}],\"scattercarpet\":[{\"type\":\"scattercarpet\",\"marker\":{\"colorbar\":{\"outlinewidth\":0,\"ticks\":\"\"}}}],\"carpet\":[{\"aaxis\":{\"endlinecolor\":\"#2a3f5f\",\"gridcolor\":\"white\",\"linecolor\":\"white\",\"minorgridcolor\":\"white\",\"startlinecolor\":\"#2a3f5f\"},\"baxis\":{\"endlinecolor\":\"#2a3f5f\",\"gridcolor\":\"white\",\"linecolor\":\"white\",\"minorgridcolor\":\"white\",\"startlinecolor\":\"#2a3f5f\"},\"type\":\"carpet\"}],\"table\":[{\"cells\":{\"fill\":{\"color\":\"#EBF0F8\"},\"line\":{\"color\":\"white\"}},\"header\":{\"fill\":{\"color\":\"#C8D4E3\"},\"line\":{\"color\":\"white\"}},\"type\":\"table\"}],\"barpolar\":[{\"marker\":{\"line\":{\"color\":\"#E5ECF6\",\"width\":0.5},\"pattern\":{\"fillmode\":\"overlay\",\"size\":10,\"solidity\":0.2}},\"type\":\"barpolar\"}],\"pie\":[{\"automargin\":true,\"type\":\"pie\"}]},\"layout\":{\"autotypenumbers\":\"strict\",\"colorway\":[\"#636efa\",\"#EF553B\",\"#00cc96\",\"#ab63fa\",\"#FFA15A\",\"#19d3f3\",\"#FF6692\",\"#B6E880\",\"#FF97FF\",\"#FECB52\"],\"font\":{\"color\":\"#2a3f5f\"},\"hovermode\":\"closest\",\"hoverlabel\":{\"align\":\"left\"},\"paper_bgcolor\":\"white\",\"plot_bgcolor\":\"#E5ECF6\",\"polar\":{\"bgcolor\":\"#E5ECF6\",\"angularaxis\":{\"gridcolor\":\"white\",\"linecolor\":\"white\",\"ticks\":\"\"},\"radialaxis\":{\"gridcolor\":\"white\",\"linecolor\":\"white\",\"ticks\":\"\"}},\"ternary\":{\"bgcolor\":\"#E5ECF6\",\"aaxis\":{\"gridcolor\":\"white\",\"linecolor\":\"white\",\"ticks\":\"\"},\"baxis\":{\"gridcolor\":\"white\",\"linecolor\":\"white\",\"ticks\":\"\"},\"caxis\":{\"gridcolor\":\"white\",\"linecolor\":\"white\",\"ticks\":\"\"}},\"coloraxis\":{\"colorbar\":{\"outlinewidth\":0,\"ticks\":\"\"}},\"colorscale\":{\"sequential\":[[0.0,\"#0d0887\"],[0.1111111111111111,\"#46039f\"],[0.2222222222222222,\"#7201a8\"],[0.3333333333333333,\"#9c179e\"],[0.4444444444444444,\"#bd3786\"],[0.5555555555555556,\"#d8576b\"],[0.6666666666666666,\"#ed7953\"],[0.7777777777777778,\"#fb9f3a\"],[0.8888888888888888,\"#fdca26\"],[1.0,\"#f0f921\"]],\"sequentialminus\":[[0.0,\"#0d0887\"],[0.1111111111111111,\"#46039f\"],[0.2222222222222222,\"#7201a8\"],[0.3333333333333333,\"#9c179e\"],[0.4444444444444444,\"#bd3786\"],[0.5555555555555556,\"#d8576b\"],[0.6666666666666666,\"#ed7953\"],[0.7777777777777778,\"#fb9f3a\"],[0.8888888888888888,\"#fdca26\"],[1.0,\"#f0f921\"]],\"diverging\":[[0,\"#8e0152\"],[0.1,\"#c51b7d\"],[0.2,\"#de77ae\"],[0.3,\"#f1b6da\"],[0.4,\"#fde0ef\"],[0.5,\"#f7f7f7\"],[0.6,\"#e6f5d0\"],[0.7,\"#b8e186\"],[0.8,\"#7fbc41\"],[0.9,\"#4d9221\"],[1,\"#276419\"]]},\"xaxis\":{\"gridcolor\":\"white\",\"linecolor\":\"white\",\"ticks\":\"\",\"title\":{\"standoff\":15},\"zerolinecolor\":\"white\",\"automargin\":true,\"zerolinewidth\":2},\"yaxis\":{\"gridcolor\":\"white\",\"linecolor\":\"white\",\"ticks\":\"\",\"title\":{\"standoff\":15},\"zerolinecolor\":\"white\",\"automargin\":true,\"zerolinewidth\":2},\"scene\":{\"xaxis\":{\"backgroundcolor\":\"#E5ECF6\",\"gridcolor\":\"white\",\"linecolor\":\"white\",\"showbackground\":true,\"ticks\":\"\",\"zerolinecolor\":\"white\",\"gridwidth\":2},\"yaxis\":{\"backgroundcolor\":\"#E5ECF6\",\"gridcolor\":\"white\",\"linecolor\":\"white\",\"showbackground\":true,\"ticks\":\"\",\"zerolinecolor\":\"white\",\"gridwidth\":2},\"zaxis\":{\"backgroundcolor\":\"#E5ECF6\",\"gridcolor\":\"white\",\"linecolor\":\"white\",\"showbackground\":true,\"ticks\":\"\",\"zerolinecolor\":\"white\",\"gridwidth\":2}},\"shapedefaults\":{\"line\":{\"color\":\"#2a3f5f\"}},\"annotationdefaults\":{\"arrowcolor\":\"#2a3f5f\",\"arrowhead\":0,\"arrowwidth\":1},\"geo\":{\"bgcolor\":\"white\",\"landcolor\":\"#E5ECF6\",\"subunitcolor\":\"white\",\"showland\":true,\"showlakes\":true,\"lakecolor\":\"white\"},\"title\":{\"x\":0.05},\"mapbox\":{\"style\":\"light\"}}},\"xaxis\":{\"anchor\":\"y\",\"domain\":[0.0,1.0],\"title\":{\"text\":\"index\"}},\"yaxis\":{\"anchor\":\"x\",\"domain\":[0.0,1.0],\"title\":{\"text\":\"value\"}},\"legend\":{\"title\":{\"text\":\"variable\"},\"tracegroupgap\":0},\"margin\":{\"t\":60},\"barmode\":\"relative\"},                        {\"responsive\": true}                    ).then(function(){\n",
       "                            \n",
       "var gd = document.getElementById('4dbc80aa-ee4b-4d95-a88c-f994cba484df');\n",
       "var x = new MutationObserver(function (mutations, observer) {{\n",
       "        var display = window.getComputedStyle(gd).display;\n",
       "        if (!display || display === 'none') {{\n",
       "            console.log([gd, 'removed!']);\n",
       "            Plotly.purge(gd);\n",
       "            observer.disconnect();\n",
       "        }}\n",
       "}});\n",
       "\n",
       "// Listen for the removal of the full notebook cells\n",
       "var notebookContainer = gd.closest('#notebook-container');\n",
       "if (notebookContainer) {{\n",
       "    x.observe(notebookContainer, {childList: true});\n",
       "}}\n",
       "\n",
       "// Listen for the clearing of the current output cell\n",
       "var outputEl = gd.closest('.output');\n",
       "if (outputEl) {{\n",
       "    x.observe(outputEl, {childList: true});\n",
       "}}\n",
       "\n",
       "                        })                };                });            </script>        </div>"
      ]
     },
     "metadata": {},
     "output_type": "display_data"
    }
   ],
   "source": [
    "fig = px.bar(df['Out of service since'].value_counts()[1:])\n",
    "fig.show()"
   ]
  },
  {
   "cell_type": "markdown",
   "id": "c2223d0c",
   "metadata": {
    "papermill": {
     "duration": 0.006226,
     "end_time": "2022-06-30T02:54:33.985199",
     "exception": false,
     "start_time": "2022-06-30T02:54:33.978973",
     "status": "completed"
    },
    "tags": []
   },
   "source": [
    "Total no of satellites currently in service"
   ]
  },
  {
   "cell_type": "code",
   "execution_count": 11,
   "id": "298c7be0",
   "metadata": {
    "execution": {
     "iopub.execute_input": "2022-06-30T02:54:34.000645Z",
     "iopub.status.busy": "2022-06-30T02:54:34.000224Z",
     "iopub.status.idle": "2022-06-30T02:54:34.008252Z",
     "shell.execute_reply": "2022-06-30T02:54:34.006965Z"
    },
    "papermill": {
     "duration": 0.018729,
     "end_time": "2022-06-30T02:54:34.010570",
     "exception": false,
     "start_time": "2022-06-30T02:54:33.991841",
     "status": "completed"
    },
    "tags": []
   },
   "outputs": [
    {
     "data": {
      "text/plain": [
       "222"
      ]
     },
     "execution_count": 11,
     "metadata": {},
     "output_type": "execute_result"
    }
   ],
   "source": [
    "(df['Out of service since']=='\\xa0').sum()"
   ]
  },
  {
   "cell_type": "code",
   "execution_count": 12,
   "id": "e5901d6c",
   "metadata": {
    "execution": {
     "iopub.execute_input": "2022-06-30T02:54:34.026471Z",
     "iopub.status.busy": "2022-06-30T02:54:34.025224Z",
     "iopub.status.idle": "2022-06-30T02:54:34.095206Z",
     "shell.execute_reply": "2022-06-30T02:54:34.094062Z"
    },
    "papermill": {
     "duration": 0.080546,
     "end_time": "2022-06-30T02:54:34.097704",
     "exception": false,
     "start_time": "2022-06-30T02:54:34.017158",
     "status": "completed"
    },
    "tags": []
   },
   "outputs": [
    {
     "data": {
      "text/html": [
       "<div>                            <div id=\"fd68b850-d83d-4cff-8ed1-53296e7ae768\" class=\"plotly-graph-div\" style=\"height:525px; width:100%;\"></div>            <script type=\"text/javascript\">                require([\"plotly\"], function(Plotly) {                    window.PLOTLYENV=window.PLOTLYENV || {};                                    if (document.getElementById(\"fd68b850-d83d-4cff-8ed1-53296e7ae768\")) {                    Plotly.newPlot(                        \"fd68b850-d83d-4cff-8ed1-53296e7ae768\",                        [{\"alignmentgroup\":\"True\",\"hovertemplate\":\"variable=Launched in<br>index=%{x}<br>value=%{y}<extra></extra>\",\"legendgroup\":\"Launched in\",\"marker\":{\"color\":\"#636efa\",\"pattern\":{\"shape\":\"\"}},\"name\":\"Launched in\",\"offsetgroup\":\"Launched in\",\"orientation\":\"v\",\"showlegend\":true,\"textposition\":\"auto\",\"x\":[\"2018\",\"2022\",\"2016\",\"2019\",\"2014\",\"2009\",\"2017\",\"2011\",\"2008\",\"1999\",\"2003\",\"2006\",\"2013\",\"2023\",\"2002\",\"2012\",\"2000\",\"2001\",\"2024\",\"2007\",\"2005\",\"2010\",\"2015\",\"1991\",\"1994\",\"2020\",\"2004\",\"1995\",\"1997\",\"1998\",\"2025\",\"1996\",\"2021\",\"1992\",\"1993\",\"2032\",\"1978\",\"1988\",\"1986\",\"1990\",\"1987\",\" \",\"2036\",\"2034\",\"2042\",\"2039\",\"1982\",\"2031\",\"1984\",\"2035\",\"1975\",\"1972\",\"2028\",\"2026\"],\"xaxis\":\"x\",\"y\":[32,18,16,15,13,12,12,11,11,10,10,10,10,9,9,9,8,8,7,7,7,7,6,6,5,5,5,5,5,4,4,4,4,3,3,3,3,2,2,2,2,1,1,1,1,1,1,1,1,1,1,1,1,1],\"yaxis\":\"y\",\"type\":\"bar\"}],                        {\"template\":{\"data\":{\"histogram2dcontour\":[{\"type\":\"histogram2dcontour\",\"colorbar\":{\"outlinewidth\":0,\"ticks\":\"\"},\"colorscale\":[[0.0,\"#0d0887\"],[0.1111111111111111,\"#46039f\"],[0.2222222222222222,\"#7201a8\"],[0.3333333333333333,\"#9c179e\"],[0.4444444444444444,\"#bd3786\"],[0.5555555555555556,\"#d8576b\"],[0.6666666666666666,\"#ed7953\"],[0.7777777777777778,\"#fb9f3a\"],[0.8888888888888888,\"#fdca26\"],[1.0,\"#f0f921\"]]}],\"choropleth\":[{\"type\":\"choropleth\",\"colorbar\":{\"outlinewidth\":0,\"ticks\":\"\"}}],\"histogram2d\":[{\"type\":\"histogram2d\",\"colorbar\":{\"outlinewidth\":0,\"ticks\":\"\"},\"colorscale\":[[0.0,\"#0d0887\"],[0.1111111111111111,\"#46039f\"],[0.2222222222222222,\"#7201a8\"],[0.3333333333333333,\"#9c179e\"],[0.4444444444444444,\"#bd3786\"],[0.5555555555555556,\"#d8576b\"],[0.6666666666666666,\"#ed7953\"],[0.7777777777777778,\"#fb9f3a\"],[0.8888888888888888,\"#fdca26\"],[1.0,\"#f0f921\"]]}],\"heatmap\":[{\"type\":\"heatmap\",\"colorbar\":{\"outlinewidth\":0,\"ticks\":\"\"},\"colorscale\":[[0.0,\"#0d0887\"],[0.1111111111111111,\"#46039f\"],[0.2222222222222222,\"#7201a8\"],[0.3333333333333333,\"#9c179e\"],[0.4444444444444444,\"#bd3786\"],[0.5555555555555556,\"#d8576b\"],[0.6666666666666666,\"#ed7953\"],[0.7777777777777778,\"#fb9f3a\"],[0.8888888888888888,\"#fdca26\"],[1.0,\"#f0f921\"]]}],\"heatmapgl\":[{\"type\":\"heatmapgl\",\"colorbar\":{\"outlinewidth\":0,\"ticks\":\"\"},\"colorscale\":[[0.0,\"#0d0887\"],[0.1111111111111111,\"#46039f\"],[0.2222222222222222,\"#7201a8\"],[0.3333333333333333,\"#9c179e\"],[0.4444444444444444,\"#bd3786\"],[0.5555555555555556,\"#d8576b\"],[0.6666666666666666,\"#ed7953\"],[0.7777777777777778,\"#fb9f3a\"],[0.8888888888888888,\"#fdca26\"],[1.0,\"#f0f921\"]]}],\"contourcarpet\":[{\"type\":\"contourcarpet\",\"colorbar\":{\"outlinewidth\":0,\"ticks\":\"\"}}],\"contour\":[{\"type\":\"contour\",\"colorbar\":{\"outlinewidth\":0,\"ticks\":\"\"},\"colorscale\":[[0.0,\"#0d0887\"],[0.1111111111111111,\"#46039f\"],[0.2222222222222222,\"#7201a8\"],[0.3333333333333333,\"#9c179e\"],[0.4444444444444444,\"#bd3786\"],[0.5555555555555556,\"#d8576b\"],[0.6666666666666666,\"#ed7953\"],[0.7777777777777778,\"#fb9f3a\"],[0.8888888888888888,\"#fdca26\"],[1.0,\"#f0f921\"]]}],\"surface\":[{\"type\":\"surface\",\"colorbar\":{\"outlinewidth\":0,\"ticks\":\"\"},\"colorscale\":[[0.0,\"#0d0887\"],[0.1111111111111111,\"#46039f\"],[0.2222222222222222,\"#7201a8\"],[0.3333333333333333,\"#9c179e\"],[0.4444444444444444,\"#bd3786\"],[0.5555555555555556,\"#d8576b\"],[0.6666666666666666,\"#ed7953\"],[0.7777777777777778,\"#fb9f3a\"],[0.8888888888888888,\"#fdca26\"],[1.0,\"#f0f921\"]]}],\"mesh3d\":[{\"type\":\"mesh3d\",\"colorbar\":{\"outlinewidth\":0,\"ticks\":\"\"}}],\"scatter\":[{\"fillpattern\":{\"fillmode\":\"overlay\",\"size\":10,\"solidity\":0.2},\"type\":\"scatter\"}],\"parcoords\":[{\"type\":\"parcoords\",\"line\":{\"colorbar\":{\"outlinewidth\":0,\"ticks\":\"\"}}}],\"scatterpolargl\":[{\"type\":\"scatterpolargl\",\"marker\":{\"colorbar\":{\"outlinewidth\":0,\"ticks\":\"\"}}}],\"bar\":[{\"error_x\":{\"color\":\"#2a3f5f\"},\"error_y\":{\"color\":\"#2a3f5f\"},\"marker\":{\"line\":{\"color\":\"#E5ECF6\",\"width\":0.5},\"pattern\":{\"fillmode\":\"overlay\",\"size\":10,\"solidity\":0.2}},\"type\":\"bar\"}],\"scattergeo\":[{\"type\":\"scattergeo\",\"marker\":{\"colorbar\":{\"outlinewidth\":0,\"ticks\":\"\"}}}],\"scatterpolar\":[{\"type\":\"scatterpolar\",\"marker\":{\"colorbar\":{\"outlinewidth\":0,\"ticks\":\"\"}}}],\"histogram\":[{\"marker\":{\"pattern\":{\"fillmode\":\"overlay\",\"size\":10,\"solidity\":0.2}},\"type\":\"histogram\"}],\"scattergl\":[{\"type\":\"scattergl\",\"marker\":{\"colorbar\":{\"outlinewidth\":0,\"ticks\":\"\"}}}],\"scatter3d\":[{\"type\":\"scatter3d\",\"line\":{\"colorbar\":{\"outlinewidth\":0,\"ticks\":\"\"}},\"marker\":{\"colorbar\":{\"outlinewidth\":0,\"ticks\":\"\"}}}],\"scattermapbox\":[{\"type\":\"scattermapbox\",\"marker\":{\"colorbar\":{\"outlinewidth\":0,\"ticks\":\"\"}}}],\"scatterternary\":[{\"type\":\"scatterternary\",\"marker\":{\"colorbar\":{\"outlinewidth\":0,\"ticks\":\"\"}}}],\"scattercarpet\":[{\"type\":\"scattercarpet\",\"marker\":{\"colorbar\":{\"outlinewidth\":0,\"ticks\":\"\"}}}],\"carpet\":[{\"aaxis\":{\"endlinecolor\":\"#2a3f5f\",\"gridcolor\":\"white\",\"linecolor\":\"white\",\"minorgridcolor\":\"white\",\"startlinecolor\":\"#2a3f5f\"},\"baxis\":{\"endlinecolor\":\"#2a3f5f\",\"gridcolor\":\"white\",\"linecolor\":\"white\",\"minorgridcolor\":\"white\",\"startlinecolor\":\"#2a3f5f\"},\"type\":\"carpet\"}],\"table\":[{\"cells\":{\"fill\":{\"color\":\"#EBF0F8\"},\"line\":{\"color\":\"white\"}},\"header\":{\"fill\":{\"color\":\"#C8D4E3\"},\"line\":{\"color\":\"white\"}},\"type\":\"table\"}],\"barpolar\":[{\"marker\":{\"line\":{\"color\":\"#E5ECF6\",\"width\":0.5},\"pattern\":{\"fillmode\":\"overlay\",\"size\":10,\"solidity\":0.2}},\"type\":\"barpolar\"}],\"pie\":[{\"automargin\":true,\"type\":\"pie\"}]},\"layout\":{\"autotypenumbers\":\"strict\",\"colorway\":[\"#636efa\",\"#EF553B\",\"#00cc96\",\"#ab63fa\",\"#FFA15A\",\"#19d3f3\",\"#FF6692\",\"#B6E880\",\"#FF97FF\",\"#FECB52\"],\"font\":{\"color\":\"#2a3f5f\"},\"hovermode\":\"closest\",\"hoverlabel\":{\"align\":\"left\"},\"paper_bgcolor\":\"white\",\"plot_bgcolor\":\"#E5ECF6\",\"polar\":{\"bgcolor\":\"#E5ECF6\",\"angularaxis\":{\"gridcolor\":\"white\",\"linecolor\":\"white\",\"ticks\":\"\"},\"radialaxis\":{\"gridcolor\":\"white\",\"linecolor\":\"white\",\"ticks\":\"\"}},\"ternary\":{\"bgcolor\":\"#E5ECF6\",\"aaxis\":{\"gridcolor\":\"white\",\"linecolor\":\"white\",\"ticks\":\"\"},\"baxis\":{\"gridcolor\":\"white\",\"linecolor\":\"white\",\"ticks\":\"\"},\"caxis\":{\"gridcolor\":\"white\",\"linecolor\":\"white\",\"ticks\":\"\"}},\"coloraxis\":{\"colorbar\":{\"outlinewidth\":0,\"ticks\":\"\"}},\"colorscale\":{\"sequential\":[[0.0,\"#0d0887\"],[0.1111111111111111,\"#46039f\"],[0.2222222222222222,\"#7201a8\"],[0.3333333333333333,\"#9c179e\"],[0.4444444444444444,\"#bd3786\"],[0.5555555555555556,\"#d8576b\"],[0.6666666666666666,\"#ed7953\"],[0.7777777777777778,\"#fb9f3a\"],[0.8888888888888888,\"#fdca26\"],[1.0,\"#f0f921\"]],\"sequentialminus\":[[0.0,\"#0d0887\"],[0.1111111111111111,\"#46039f\"],[0.2222222222222222,\"#7201a8\"],[0.3333333333333333,\"#9c179e\"],[0.4444444444444444,\"#bd3786\"],[0.5555555555555556,\"#d8576b\"],[0.6666666666666666,\"#ed7953\"],[0.7777777777777778,\"#fb9f3a\"],[0.8888888888888888,\"#fdca26\"],[1.0,\"#f0f921\"]],\"diverging\":[[0,\"#8e0152\"],[0.1,\"#c51b7d\"],[0.2,\"#de77ae\"],[0.3,\"#f1b6da\"],[0.4,\"#fde0ef\"],[0.5,\"#f7f7f7\"],[0.6,\"#e6f5d0\"],[0.7,\"#b8e186\"],[0.8,\"#7fbc41\"],[0.9,\"#4d9221\"],[1,\"#276419\"]]},\"xaxis\":{\"gridcolor\":\"white\",\"linecolor\":\"white\",\"ticks\":\"\",\"title\":{\"standoff\":15},\"zerolinecolor\":\"white\",\"automargin\":true,\"zerolinewidth\":2},\"yaxis\":{\"gridcolor\":\"white\",\"linecolor\":\"white\",\"ticks\":\"\",\"title\":{\"standoff\":15},\"zerolinecolor\":\"white\",\"automargin\":true,\"zerolinewidth\":2},\"scene\":{\"xaxis\":{\"backgroundcolor\":\"#E5ECF6\",\"gridcolor\":\"white\",\"linecolor\":\"white\",\"showbackground\":true,\"ticks\":\"\",\"zerolinecolor\":\"white\",\"gridwidth\":2},\"yaxis\":{\"backgroundcolor\":\"#E5ECF6\",\"gridcolor\":\"white\",\"linecolor\":\"white\",\"showbackground\":true,\"ticks\":\"\",\"zerolinecolor\":\"white\",\"gridwidth\":2},\"zaxis\":{\"backgroundcolor\":\"#E5ECF6\",\"gridcolor\":\"white\",\"linecolor\":\"white\",\"showbackground\":true,\"ticks\":\"\",\"zerolinecolor\":\"white\",\"gridwidth\":2}},\"shapedefaults\":{\"line\":{\"color\":\"#2a3f5f\"}},\"annotationdefaults\":{\"arrowcolor\":\"#2a3f5f\",\"arrowhead\":0,\"arrowwidth\":1},\"geo\":{\"bgcolor\":\"white\",\"landcolor\":\"#E5ECF6\",\"subunitcolor\":\"white\",\"showland\":true,\"showlakes\":true,\"lakecolor\":\"white\"},\"title\":{\"x\":0.05},\"mapbox\":{\"style\":\"light\"}}},\"xaxis\":{\"anchor\":\"y\",\"domain\":[0.0,1.0],\"title\":{\"text\":\"index\"}},\"yaxis\":{\"anchor\":\"x\",\"domain\":[0.0,1.0],\"title\":{\"text\":\"value\"}},\"legend\":{\"title\":{\"text\":\"variable\"},\"tracegroupgap\":0},\"margin\":{\"t\":60},\"barmode\":\"relative\"},                        {\"responsive\": true}                    ).then(function(){\n",
       "                            \n",
       "var gd = document.getElementById('fd68b850-d83d-4cff-8ed1-53296e7ae768');\n",
       "var x = new MutationObserver(function (mutations, observer) {{\n",
       "        var display = window.getComputedStyle(gd).display;\n",
       "        if (!display || display === 'none') {{\n",
       "            console.log([gd, 'removed!']);\n",
       "            Plotly.purge(gd);\n",
       "            observer.disconnect();\n",
       "        }}\n",
       "}});\n",
       "\n",
       "// Listen for the removal of the full notebook cells\n",
       "var notebookContainer = gd.closest('#notebook-container');\n",
       "if (notebookContainer) {{\n",
       "    x.observe(notebookContainer, {childList: true});\n",
       "}}\n",
       "\n",
       "// Listen for the clearing of the current output cell\n",
       "var outputEl = gd.closest('.output');\n",
       "if (outputEl) {{\n",
       "    x.observe(outputEl, {childList: true});\n",
       "}}\n",
       "\n",
       "                        })                };                });            </script>        </div>"
      ]
     },
     "metadata": {},
     "output_type": "display_data"
    }
   ],
   "source": [
    "fig = px.bar(df['Launched in'].value_counts())\n",
    "fig.show()"
   ]
  },
  {
   "cell_type": "code",
   "execution_count": 13,
   "id": "22c87ce3",
   "metadata": {
    "execution": {
     "iopub.execute_input": "2022-06-30T02:54:34.114037Z",
     "iopub.status.busy": "2022-06-30T02:54:34.113315Z",
     "iopub.status.idle": "2022-06-30T02:54:34.297814Z",
     "shell.execute_reply": "2022-06-30T02:54:34.296672Z"
    },
    "papermill": {
     "duration": 0.195968,
     "end_time": "2022-06-30T02:54:34.300772",
     "exception": false,
     "start_time": "2022-06-30T02:54:34.104804",
     "status": "completed"
    },
    "tags": []
   },
   "outputs": [
    {
     "data": {
      "text/html": [
       "<div>                            <div id=\"6b202155-c4d0-40d6-b1f6-e61e760e204a\" class=\"plotly-graph-div\" style=\"height:525px; width:100%;\"></div>            <script type=\"text/javascript\">                require([\"plotly\"], function(Plotly) {                    window.PLOTLYENV=window.PLOTLYENV || {};                                    if (document.getElementById(\"6b202155-c4d0-40d6-b1f6-e61e760e204a\")) {                    Plotly.newPlot(                        \"6b202155-c4d0-40d6-b1f6-e61e760e204a\",                        [{\"hovertemplate\":\"Organisation=Japan<br>Repeat Cycle (days)=%{x}<br>Orbit Height (km)=%{y}<extra></extra>\",\"legendgroup\":\"Japan\",\"marker\":{\"color\":\"#636efa\",\"symbol\":\"circle\"},\"mode\":\"markers\",\"name\":\"Japan\",\"orientation\":\"v\",\"showlegend\":true,\"x\":[\"41\",\"4\",\"46\",\"14\",\"35\",\"14\",\" \",\" \",\"2\",\"2\",\" \",\"3\",\"6\",\"0.0069\",\" \",\"44\",\"17\",\"17\",\" \",\" \"],\"xaxis\":\"x\",\"y\":[\"797\",\"803\",\"702\",\"628\",\"669\",\"628\",\"504\",\"504\",\"798\",\"700\",\" \",\"666\",\"613\",\"35800\",\"35800\",\"568\",\"909\",\"909\",\"35800\",\"35800\"],\"yaxis\":\"y\",\"type\":\"scatter\"},{\"hovertemplate\":\"Organisation=ESA<br>Repeat Cycle (days)=%{x}<br>Orbit Height (km)=%{y}<extra></extra>\",\"legendgroup\":\"ESA\",\"marker\":{\"color\":\"#EF553B\",\"symbol\":\"circle\"},\"mode\":\"markers\",\"name\":\"ESA\",\"orientation\":\"v\",\"showlegend\":true,\"x\":[\"7\",\"26\",\"369\",\"25\",\"35\",\"4\",\"4\",\" \",\"35\",\"35\",\"27\",\" \",\" \",\" \",\"0.01\",\"0.01\",\"0.003\",\"0.01\",\"0.01\",\"29\",\"29\",\"29\",\"29\",\"29\",\"29\",\"29\",\"29\",\"29\",\" \",\" \",\" \",\" \",\"0.04166\",\"0.04166\",\"7\",\"1\",\"6\",\"6\",\" \",\" \",\"5\",\"5\",\" \",\" \",\"27\",\" \",\" \",\" \",\"17\",\"10\",\"10\",\"3\",\" \"],\"xaxis\":\"x\",\"y\":[\"320\",\"660\",\"717\",\"393\",\"783\",\"530\",\"520\",\"510\",\"785\",\"785\",\"815\",\"235\",\"35786\",\"35786\",\"36000\",\"36000\",\"36000\",\"36000\",\"36000\",\"817\",\"817\",\"817\",\"817\",\"817\",\"817\",\"817\",\"817\",\"817\",\"35786\",\"35786\",\"35786\",\"35786\",\"35786\",\"35786\",\"615\",\"820\",\"693\",\"693\",\"693\",\"693\",\"786\",\"786\",\"786\",\"786\",\"814\",\"814\",\"814\",\"814\",\"824\",\"1336\",\"1336\",\"758\",\"530\"],\"yaxis\":\"y\",\"type\":\"scatter\"},{\"hovertemplate\":\"Organisation=Mashinostroyeniya<br>Repeat Cycle (days)=%{x}<br>Orbit Height (km)=%{y}<extra></extra>\",\"legendgroup\":\"Mashinostroyeniya\",\"marker\":{\"color\":\"#00cc96\",\"symbol\":\"circle\"},\"mode\":\"markers\",\"name\":\"Mashinostroyeniya\",\"orientation\":\"v\",\"showlegend\":true,\"x\":[\" \"],\"xaxis\":\"x\",\"y\":[\"370\"],\"yaxis\":\"y\",\"type\":\"scatter\"},{\"hovertemplate\":\"Organisation=Algeria<br>Repeat Cycle (days)=%{x}<br>Orbit Height (km)=%{y}<extra></extra>\",\"legendgroup\":\"Algeria\",\"marker\":{\"color\":\"#ab63fa\",\"symbol\":\"circle\"},\"mode\":\"markers\",\"name\":\"Algeria\",\"orientation\":\"v\",\"showlegend\":true,\"x\":[\"4\",\"7\",\" \",\" \"],\"xaxis\":\"x\",\"y\":[\"686\",\"680\",\"686\",\"670\"],\"yaxis\":\"y\",\"type\":\"scatter\"},{\"hovertemplate\":\"Organisation=USA<br>Repeat Cycle (days)=%{x}<br>Orbit Height (km)=%{y}<extra></extra>\",\"legendgroup\":\"USA\",\"marker\":{\"color\":\"#FFA15A\",\"symbol\":\"circle\"},\"mode\":\"markers\",\"name\":\"USA\",\"orientation\":\"v\",\"showlegend\":true,\"x\":[\" \",\"16\",\" \",\" \",\" \",\" \",\" \",\" \",\" \",\"8\",\" \",\" \",\" \",\"3\",\"16\",\" \",\" \",\"17\",\" \",\" \",\" \",\" \",\" \",\"0.01\",\" \",\" \",\" \",\" \",\" \",\" \",\" \",\" \",\" \",\" \",\"30\",\" \",\"91\",\"3\",\"10\",\"9.9\",\"9.9\",\" \",\" \",\" \",\"18\",\"18\",\"18\",\"16\",\"16\",\"16\",\"16\",\"16\",\" \",\"6\",\" \",\"11\",\"11\",\"11\",\"11\",\"11\",\"11\",\"11\",\"11\",\" \",\"20\",\"16\",\" \",\" \",\" \",\" \",\" \",\" \",\" \",\" \",\" \",\" \",\" \",\" \",\" \",\"26\",\"26\",\" \",\" \",\" \",\" \",\" \",\" \",\"5.5\",\" \",\" \",\" \",\" \",\" \",\" \",\" \",\" \",\"3\",\"1\",\"26\",\"26\",\" \",\" \",\"16\",\"21\",\" \",\"16\",\" \",\"10\",\"0.5\",\" \",\"1\",\" \",\" \",\"1.1\",\"1\",\"1\",\" \"],\"xaxis\":\"x\",\"y\":[\"705\",\"705\",\"500\",\"500\",\"500\",\"500\",\"500\",\"705\",\"705\",\"830\",\"500\",\"830\",\"740\",\"408\",\"705\",\"36000\",\"681\",\"800\",\" \",\"705\",\"35800\",\"35800\",\"35800\",\"35800\",\"35800\",\"35800\",\"35786\",\"35786\",\"35888\",\"35800\",\"35800\",\" \",\"407\",\"437\",\"490\",\"600\",\"498\",\"681\",\"1337\",\"1336\",\"1336\",\"824\",\" \",\" \",\"907\",\"908\",\"915\",\"705\",\"705\",\"705\",\"705\",\"705\",\"575\",\"955\",\" \",\"833\",\"870\",\"833\",\"870\",\"833\",\"870\",\"833\",\"854\",\"870\",\"824\",\"705\",\"407\",\"676\",\"400\",\"600\",\"455\",\"495\",\"485\",\"510\",\"495\",\"500\",\"485\",\"585\",\"500\",\"694\",\"694\",\"620\",\"620\",\"620\",\"620\",\"450\",\"803\",\"630\",\"657\",\"800\",\"505\",\"578\",\"637\",\"515\",\"500\",\"500\",\"685\",\"645\",\"694\",\"694\",\"233\",\" \",\"824\",\"891\",\"35786\",\"705\",\"625\",\"1336\",\"350\",\"470\",\"583\",\"680\",\"496\",\"770\",\"617\",\"617\",\"450\"],\"yaxis\":\"y\",\"type\":\"scatter\"},{\"hovertemplate\":\"Organisation=China<br>Repeat Cycle (days)=%{x}<br>Orbit Height (km)=%{y}<extra></extra>\",\"legendgroup\":\"China\",\"marker\":{\"color\":\"#19d3f3\",\"symbol\":\"circle\"},\"mode\":\"markers\",\"name\":\"China\",\"orientation\":\"v\",\"showlegend\":true,\"x\":[\" \",\"13\",\"12\",\" \",\" \",\" \",\" \",\" \",\" \",\" \",\" \",\" \",\"31\",\"7\",\" \"],\"xaxis\":\"x\",\"y\":[\"686\",\"519\",\"863\",\" \",\" \",\"36000\",\"3600\",\"836\",\"836\",\"836\",\"35786\",\" \",\"649\",\"798\",\" \"],\"yaxis\":\"y\",\"type\":\"scatter\"},{\"hovertemplate\":\"Organisation=Turkey<br>Repeat Cycle (days)=%{x}<br>Orbit Height (km)=%{y}<extra></extra>\",\"legendgroup\":\"Turkey\",\"marker\":{\"color\":\"#FF6692\",\"symbol\":\"circle\"},\"mode\":\"markers\",\"name\":\"Turkey\",\"orientation\":\"v\",\"showlegend\":true,\"x\":[\" \",\"2.5\",\"4\"],\"xaxis\":\"x\",\"y\":[\"686\",\"700\",\"700\"],\"yaxis\":\"y\",\"type\":\"scatter\"},{\"hovertemplate\":\"Organisation=Germany<br>Repeat Cycle (days)=%{x}<br>Orbit Height (km)=%{y}<extra></extra>\",\"legendgroup\":\"Germany\",\"marker\":{\"color\":\"#B6E880\",\"symbol\":\"circle\"},\"mode\":\"markers\",\"name\":\"Germany\",\"orientation\":\"v\",\"showlegend\":true,\"x\":[\" \",\"27\",\"28\",\"8\",\"11\",\"11\"],\"xaxis\":\"x\",\"y\":[\"572\",\"652\",\"506\",\"760\",\"515\",\"514\"],\"yaxis\":\"y\",\"type\":\"scatter\"},{\"hovertemplate\":\"Organisation=India<br>Repeat Cycle (days)=%{x}<br>Orbit Height (km)=%{y}<extra></extra>\",\"legendgroup\":\"India\",\"marker\":{\"color\":\"#FF97FF\",\"symbol\":\"circle\"},\"mode\":\"markers\",\"name\":\"India\",\"orientation\":\"v\",\"showlegend\":true,\"x\":[\"116\",\"4\",\" \",\" \",\" \",\" \",\" \",\"4\",\" \",\" \",\" \",\" \",\" \",\" \",\" \",\" \",\" \",\" \",\"22\",\"22\",\"24\",\"25\",\"24\",\"5\",\"2\",\"2\",\"2\",\"24\",\"24\",\"24\",\"25\",\" \",\" \",\" \"],\"xaxis\":\"x\",\"y\":[\"618\",\"635\",\"505\",\"505\",\"505\",\"505\",\"635\",\"637\",\"509\",\"35786\",\"529\",\"35786\",\"636\",\"635\",\" \",\" \",\" \",\"35786\",\"904\",\"904\",\"817\",\"824\",\"817\",\"817\",\"720\",\"720\",\"720\",\"817\",\"817\",\"817\",\"536\",\"550\",\"440\",\"720\"],\"yaxis\":\"y\",\"type\":\"scatter\"},{\"hovertemplate\":\"Organisation=Brazil<br>Repeat Cycle (days)=%{x}<br>Orbit Height (km)=%{y}<extra></extra>\",\"legendgroup\":\"Brazil\",\"marker\":{\"color\":\"#FECB52\",\"symbol\":\"circle\"},\"mode\":\"markers\",\"name\":\"Brazil\",\"orientation\":\"v\",\"showlegend\":true,\"x\":[\"26\",\"26\",\"26\",\"26\",\"31\"],\"xaxis\":\"x\",\"y\":[\"778\",\"778\",\"778\",\"778\",\"628\"],\"yaxis\":\"y\",\"type\":\"scatter\"},{\"hovertemplate\":\"Organisation=Korea<br>Repeat Cycle (days)=%{x}<br>Orbit Height (km)=%{y}<extra></extra>\",\"legendgroup\":\"Korea\",\"marker\":{\"color\":\"#636efa\",\"symbol\":\"circle\"},\"mode\":\"markers\",\"name\":\"Korea\",\"orientation\":\"v\",\"showlegend\":true,\"x\":[\" \",\" \",\" \",\"28\",\"28\",\"28\",\"28\",\"28\",\"11\",\"28\"],\"xaxis\":\"x\",\"y\":[\"35786\",\"35786\",\"35786\",\"685\",\"685\",\"685\",\"528\",\"550\",\"505\",\"685\"],\"yaxis\":\"y\",\"type\":\"scatter\"},{\"hovertemplate\":\"Organisation=Italy<br>Repeat Cycle (days)=%{x}<br>Orbit Height (km)=%{y}<extra></extra>\",\"legendgroup\":\"Italy\",\"marker\":{\"color\":\"#EF553B\",\"symbol\":\"circle\"},\"mode\":\"markers\",\"name\":\"Italy\",\"orientation\":\"v\",\"showlegend\":true,\"x\":[\"16\",\"16\",\"16\",\"29\"],\"xaxis\":\"x\",\"y\":[\"620\",\"619\",\"619\",\"615\"],\"yaxis\":\"y\",\"type\":\"scatter\"},{\"hovertemplate\":\"Organisation=Russia<br>Repeat Cycle (days)=%{x}<br>Orbit Height (km)=%{y}<extra></extra>\",\"legendgroup\":\"Russia\",\"marker\":{\"color\":\"#00cc96\",\"symbol\":\"circle\"},\"mode\":\"markers\",\"name\":\"Russia\",\"orientation\":\"v\",\"showlegend\":true,\"x\":[\" \",\" \",\" \",\"17\",\"5\",\"5\",\" \",\" \",\"3\",\" \",\" \",\" \",\" \",\" \",\" \",\"21\",\"0.5\",\" \",\" \"],\"xaxis\":\"x\",\"y\":[\"800\",\" \",\"36000\",\"510\",\"510\",\"510\",\"510\",\"510\",\"1012\",\"821\",\"832\",\"825\",\"400\",\"480\",\"835\",\"678\",\"500\",\"505\",\"500\"],\"yaxis\":\"y\",\"type\":\"scatter\"},{\"hovertemplate\":\"Organisation=France<br>Repeat Cycle (days)=%{x}<br>Orbit Height (km)=%{y}<extra></extra>\",\"legendgroup\":\"France\",\"marker\":{\"color\":\"#ab63fa\",\"symbol\":\"circle\"},\"mode\":\"markers\",\"name\":\"France\",\"orientation\":\"v\",\"showlegend\":true,\"x\":[\" \",\" \",\" \",\"35\",\"26\",\"26\",\"26\",\"26\",\"26\",\" \",\"2\"],\"xaxis\":\"x\",\"y\":[\"715\",\"867\",\"705\",\"800\",\"832\",\"832\",\"832\",\"832\",\"832\",\"676\",\"720\"],\"yaxis\":\"y\",\"type\":\"scatter\"},{\"hovertemplate\":\"Organisation=UK<br>Repeat Cycle (days)=%{x}<br>Orbit Height (km)=%{y}<extra></extra>\",\"legendgroup\":\"UK\",\"marker\":{\"color\":\"#FFA15A\",\"symbol\":\"circle\"},\"mode\":\"markers\",\"name\":\"UK\",\"orientation\":\"v\",\"showlegend\":true,\"x\":[\"1\",\"14\",\"4\",\" \",\" \"],\"xaxis\":\"x\",\"y\":[\"647\",\"580\",\"686\",\"686\",\"686\"],\"yaxis\":\"y\",\"type\":\"scatter\"},{\"hovertemplate\":\"Organisation=Australia<br>Repeat Cycle (days)=%{x}<br>Orbit Height (km)=%{y}<extra></extra>\",\"legendgroup\":\"Australia\",\"marker\":{\"color\":\"#19d3f3\",\"symbol\":\"circle\"},\"mode\":\"markers\",\"name\":\"Australia\",\"orientation\":\"v\",\"showlegend\":true,\"x\":[\" \"],\"xaxis\":\"x\",\"y\":[\"803\"],\"yaxis\":\"y\",\"type\":\"scatter\"},{\"hovertemplate\":\"Organisation=Taiwan<br>Repeat Cycle (days)=%{x}<br>Orbit Height (km)=%{y}<extra></extra>\",\"legendgroup\":\"Taiwan\",\"marker\":{\"color\":\"#FF6692\",\"symbol\":\"circle\"},\"mode\":\"markers\",\"name\":\"Taiwan\",\"orientation\":\"v\",\"showlegend\":true,\"x\":[\" \",\" \",\" \",\" \",\" \"],\"xaxis\":\"x\",\"y\":[\"600\",\"891\",\"800\",\"720\",\"550\"],\"yaxis\":\"y\",\"type\":\"scatter\"},{\"hovertemplate\":\"Organisation=Spain<br>Repeat Cycle (days)=%{x}<br>Orbit Height (km)=%{y}<extra></extra>\",\"legendgroup\":\"Spain\",\"marker\":{\"color\":\"#B6E880\",\"symbol\":\"circle\"},\"mode\":\"markers\",\"name\":\"Spain\",\"orientation\":\"v\",\"showlegend\":true,\"x\":[\"3\",\"2\"],\"xaxis\":\"x\",\"y\":[\"650\",\"620\"],\"yaxis\":\"y\",\"type\":\"scatter\"},{\"hovertemplate\":\"Organisation=Finland<br>Repeat Cycle (days)=%{x}<br>Orbit Height (km)=%{y}<extra></extra>\",\"legendgroup\":\"Finland\",\"marker\":{\"color\":\"#FF97FF\",\"symbol\":\"circle\"},\"mode\":\"markers\",\"name\":\"Finland\",\"orientation\":\"v\",\"showlegend\":true,\"x\":[\" \",\" \",\" \",\" \"],\"xaxis\":\"x\",\"y\":[\"505\",\"590\",\"590\",\"565\"],\"yaxis\":\"y\",\"type\":\"scatter\"},{\"hovertemplate\":\"Organisation=Indonesia<br>Repeat Cycle (days)=%{x}<br>Orbit Height (km)=%{y}<extra></extra>\",\"legendgroup\":\"Indonesia\",\"marker\":{\"color\":\"#FECB52\",\"symbol\":\"circle\"},\"mode\":\"markers\",\"name\":\"Indonesia\",\"orientation\":\"v\",\"showlegend\":true,\"x\":[\" \"],\"xaxis\":\"x\",\"y\":[\"625\"],\"yaxis\":\"y\",\"type\":\"scatter\"},{\"hovertemplate\":\"Organisation=Nigeria<br>Repeat Cycle (days)=%{x}<br>Orbit Height (km)=%{y}<extra></extra>\",\"legendgroup\":\"Nigeria\",\"marker\":{\"color\":\"#636efa\",\"symbol\":\"circle\"},\"mode\":\"markers\",\"name\":\"Nigeria\",\"orientation\":\"v\",\"showlegend\":true,\"x\":[\" \",\" \",\" \"],\"xaxis\":\"x\",\"y\":[\"686\",\"700\",\"700\"],\"yaxis\":\"y\",\"type\":\"scatter\"},{\"hovertemplate\":\"Organisation=Sweden<br>Repeat Cycle (days)=%{x}<br>Orbit Height (km)=%{y}<extra></extra>\",\"legendgroup\":\"Sweden\",\"marker\":{\"color\":\"#EF553B\",\"symbol\":\"circle\"},\"mode\":\"markers\",\"name\":\"Sweden\",\"orientation\":\"v\",\"showlegend\":true,\"x\":[\" \"],\"xaxis\":\"x\",\"y\":[\"625\"],\"yaxis\":\"y\",\"type\":\"scatter\"},{\"hovertemplate\":\"Organisation=CANADA<br>Repeat Cycle (days)=%{x}<br>Orbit Height (km)=%{y}<extra></extra>\",\"legendgroup\":\"CANADA\",\"marker\":{\"color\":\"#00cc96\",\"symbol\":\"circle\"},\"mode\":\"markers\",\"name\":\"CANADA\",\"orientation\":\"v\",\"showlegend\":true,\"x\":[\"12\",\"24\",\"24\",\" \",\" \",\" \"],\"xaxis\":\"x\",\"y\":[\"600\",\"798\",\"798\",\" \",\"650\",\" \"],\"yaxis\":\"y\",\"type\":\"scatter\"},{\"hovertemplate\":\"Organisation=Malaysia<br>Repeat Cycle (days)=%{x}<br>Orbit Height (km)=%{y}<extra></extra>\",\"legendgroup\":\"Malaysia\",\"marker\":{\"color\":\"#ab63fa\",\"symbol\":\"circle\"},\"mode\":\"markers\",\"name\":\"Malaysia\",\"orientation\":\"v\",\"showlegend\":true,\"x\":[\" \"],\"xaxis\":\"x\",\"y\":[\"685\"],\"yaxis\":\"y\",\"type\":\"scatter\"},{\"hovertemplate\":\"Organisation=Argentina<br>Repeat Cycle (days)=%{x}<br>Orbit Height (km)=%{y}<extra></extra>\",\"legendgroup\":\"Argentina\",\"marker\":{\"color\":\"#FFA15A\",\"symbol\":\"circle\"},\"mode\":\"markers\",\"name\":\"Argentina\",\"orientation\":\"v\",\"showlegend\":true,\"x\":[\"16\",\"8\",\"8\"],\"xaxis\":\"x\",\"y\":[\"705\",\"620\",\"620\"],\"yaxis\":\"y\",\"type\":\"scatter\"},{\"hovertemplate\":\"Organisation=Ukraine<br>Repeat Cycle (days)=%{x}<br>Orbit Height (km)=%{y}<extra></extra>\",\"legendgroup\":\"Ukraine\",\"marker\":{\"color\":\"#19d3f3\",\"symbol\":\"circle\"},\"mode\":\"markers\",\"name\":\"Ukraine\",\"orientation\":\"v\",\"showlegend\":true,\"x\":[\" \"],\"xaxis\":\"x\",\"y\":[\" \"],\"yaxis\":\"y\",\"type\":\"scatter\"},{\"hovertemplate\":\"Organisation=Israel<br>Repeat Cycle (days)=%{x}<br>Orbit Height (km)=%{y}<extra></extra>\",\"legendgroup\":\"Israel\",\"marker\":{\"color\":\"#FF6692\",\"symbol\":\"circle\"},\"mode\":\"markers\",\"name\":\"Israel\",\"orientation\":\"v\",\"showlegend\":true,\"x\":[\"36\"],\"xaxis\":\"x\",\"y\":[\"800\"],\"yaxis\":\"y\",\"type\":\"scatter\"},{\"hovertemplate\":\"Organisation=Thailand<br>Repeat Cycle (days)=%{x}<br>Orbit Height (km)=%{y}<extra></extra>\",\"legendgroup\":\"Thailand\",\"marker\":{\"color\":\"#B6E880\",\"symbol\":\"circle\"},\"mode\":\"markers\",\"name\":\"Thailand\",\"orientation\":\"v\",\"showlegend\":true,\"x\":[\" \"],\"xaxis\":\"x\",\"y\":[\"822\"],\"yaxis\":\"y\",\"type\":\"scatter\"}],                        {\"template\":{\"data\":{\"histogram2dcontour\":[{\"type\":\"histogram2dcontour\",\"colorbar\":{\"outlinewidth\":0,\"ticks\":\"\"},\"colorscale\":[[0.0,\"#0d0887\"],[0.1111111111111111,\"#46039f\"],[0.2222222222222222,\"#7201a8\"],[0.3333333333333333,\"#9c179e\"],[0.4444444444444444,\"#bd3786\"],[0.5555555555555556,\"#d8576b\"],[0.6666666666666666,\"#ed7953\"],[0.7777777777777778,\"#fb9f3a\"],[0.8888888888888888,\"#fdca26\"],[1.0,\"#f0f921\"]]}],\"choropleth\":[{\"type\":\"choropleth\",\"colorbar\":{\"outlinewidth\":0,\"ticks\":\"\"}}],\"histogram2d\":[{\"type\":\"histogram2d\",\"colorbar\":{\"outlinewidth\":0,\"ticks\":\"\"},\"colorscale\":[[0.0,\"#0d0887\"],[0.1111111111111111,\"#46039f\"],[0.2222222222222222,\"#7201a8\"],[0.3333333333333333,\"#9c179e\"],[0.4444444444444444,\"#bd3786\"],[0.5555555555555556,\"#d8576b\"],[0.6666666666666666,\"#ed7953\"],[0.7777777777777778,\"#fb9f3a\"],[0.8888888888888888,\"#fdca26\"],[1.0,\"#f0f921\"]]}],\"heatmap\":[{\"type\":\"heatmap\",\"colorbar\":{\"outlinewidth\":0,\"ticks\":\"\"},\"colorscale\":[[0.0,\"#0d0887\"],[0.1111111111111111,\"#46039f\"],[0.2222222222222222,\"#7201a8\"],[0.3333333333333333,\"#9c179e\"],[0.4444444444444444,\"#bd3786\"],[0.5555555555555556,\"#d8576b\"],[0.6666666666666666,\"#ed7953\"],[0.7777777777777778,\"#fb9f3a\"],[0.8888888888888888,\"#fdca26\"],[1.0,\"#f0f921\"]]}],\"heatmapgl\":[{\"type\":\"heatmapgl\",\"colorbar\":{\"outlinewidth\":0,\"ticks\":\"\"},\"colorscale\":[[0.0,\"#0d0887\"],[0.1111111111111111,\"#46039f\"],[0.2222222222222222,\"#7201a8\"],[0.3333333333333333,\"#9c179e\"],[0.4444444444444444,\"#bd3786\"],[0.5555555555555556,\"#d8576b\"],[0.6666666666666666,\"#ed7953\"],[0.7777777777777778,\"#fb9f3a\"],[0.8888888888888888,\"#fdca26\"],[1.0,\"#f0f921\"]]}],\"contourcarpet\":[{\"type\":\"contourcarpet\",\"colorbar\":{\"outlinewidth\":0,\"ticks\":\"\"}}],\"contour\":[{\"type\":\"contour\",\"colorbar\":{\"outlinewidth\":0,\"ticks\":\"\"},\"colorscale\":[[0.0,\"#0d0887\"],[0.1111111111111111,\"#46039f\"],[0.2222222222222222,\"#7201a8\"],[0.3333333333333333,\"#9c179e\"],[0.4444444444444444,\"#bd3786\"],[0.5555555555555556,\"#d8576b\"],[0.6666666666666666,\"#ed7953\"],[0.7777777777777778,\"#fb9f3a\"],[0.8888888888888888,\"#fdca26\"],[1.0,\"#f0f921\"]]}],\"surface\":[{\"type\":\"surface\",\"colorbar\":{\"outlinewidth\":0,\"ticks\":\"\"},\"colorscale\":[[0.0,\"#0d0887\"],[0.1111111111111111,\"#46039f\"],[0.2222222222222222,\"#7201a8\"],[0.3333333333333333,\"#9c179e\"],[0.4444444444444444,\"#bd3786\"],[0.5555555555555556,\"#d8576b\"],[0.6666666666666666,\"#ed7953\"],[0.7777777777777778,\"#fb9f3a\"],[0.8888888888888888,\"#fdca26\"],[1.0,\"#f0f921\"]]}],\"mesh3d\":[{\"type\":\"mesh3d\",\"colorbar\":{\"outlinewidth\":0,\"ticks\":\"\"}}],\"scatter\":[{\"fillpattern\":{\"fillmode\":\"overlay\",\"size\":10,\"solidity\":0.2},\"type\":\"scatter\"}],\"parcoords\":[{\"type\":\"parcoords\",\"line\":{\"colorbar\":{\"outlinewidth\":0,\"ticks\":\"\"}}}],\"scatterpolargl\":[{\"type\":\"scatterpolargl\",\"marker\":{\"colorbar\":{\"outlinewidth\":0,\"ticks\":\"\"}}}],\"bar\":[{\"error_x\":{\"color\":\"#2a3f5f\"},\"error_y\":{\"color\":\"#2a3f5f\"},\"marker\":{\"line\":{\"color\":\"#E5ECF6\",\"width\":0.5},\"pattern\":{\"fillmode\":\"overlay\",\"size\":10,\"solidity\":0.2}},\"type\":\"bar\"}],\"scattergeo\":[{\"type\":\"scattergeo\",\"marker\":{\"colorbar\":{\"outlinewidth\":0,\"ticks\":\"\"}}}],\"scatterpolar\":[{\"type\":\"scatterpolar\",\"marker\":{\"colorbar\":{\"outlinewidth\":0,\"ticks\":\"\"}}}],\"histogram\":[{\"marker\":{\"pattern\":{\"fillmode\":\"overlay\",\"size\":10,\"solidity\":0.2}},\"type\":\"histogram\"}],\"scattergl\":[{\"type\":\"scattergl\",\"marker\":{\"colorbar\":{\"outlinewidth\":0,\"ticks\":\"\"}}}],\"scatter3d\":[{\"type\":\"scatter3d\",\"line\":{\"colorbar\":{\"outlinewidth\":0,\"ticks\":\"\"}},\"marker\":{\"colorbar\":{\"outlinewidth\":0,\"ticks\":\"\"}}}],\"scattermapbox\":[{\"type\":\"scattermapbox\",\"marker\":{\"colorbar\":{\"outlinewidth\":0,\"ticks\":\"\"}}}],\"scatterternary\":[{\"type\":\"scatterternary\",\"marker\":{\"colorbar\":{\"outlinewidth\":0,\"ticks\":\"\"}}}],\"scattercarpet\":[{\"type\":\"scattercarpet\",\"marker\":{\"colorbar\":{\"outlinewidth\":0,\"ticks\":\"\"}}}],\"carpet\":[{\"aaxis\":{\"endlinecolor\":\"#2a3f5f\",\"gridcolor\":\"white\",\"linecolor\":\"white\",\"minorgridcolor\":\"white\",\"startlinecolor\":\"#2a3f5f\"},\"baxis\":{\"endlinecolor\":\"#2a3f5f\",\"gridcolor\":\"white\",\"linecolor\":\"white\",\"minorgridcolor\":\"white\",\"startlinecolor\":\"#2a3f5f\"},\"type\":\"carpet\"}],\"table\":[{\"cells\":{\"fill\":{\"color\":\"#EBF0F8\"},\"line\":{\"color\":\"white\"}},\"header\":{\"fill\":{\"color\":\"#C8D4E3\"},\"line\":{\"color\":\"white\"}},\"type\":\"table\"}],\"barpolar\":[{\"marker\":{\"line\":{\"color\":\"#E5ECF6\",\"width\":0.5},\"pattern\":{\"fillmode\":\"overlay\",\"size\":10,\"solidity\":0.2}},\"type\":\"barpolar\"}],\"pie\":[{\"automargin\":true,\"type\":\"pie\"}]},\"layout\":{\"autotypenumbers\":\"strict\",\"colorway\":[\"#636efa\",\"#EF553B\",\"#00cc96\",\"#ab63fa\",\"#FFA15A\",\"#19d3f3\",\"#FF6692\",\"#B6E880\",\"#FF97FF\",\"#FECB52\"],\"font\":{\"color\":\"#2a3f5f\"},\"hovermode\":\"closest\",\"hoverlabel\":{\"align\":\"left\"},\"paper_bgcolor\":\"white\",\"plot_bgcolor\":\"#E5ECF6\",\"polar\":{\"bgcolor\":\"#E5ECF6\",\"angularaxis\":{\"gridcolor\":\"white\",\"linecolor\":\"white\",\"ticks\":\"\"},\"radialaxis\":{\"gridcolor\":\"white\",\"linecolor\":\"white\",\"ticks\":\"\"}},\"ternary\":{\"bgcolor\":\"#E5ECF6\",\"aaxis\":{\"gridcolor\":\"white\",\"linecolor\":\"white\",\"ticks\":\"\"},\"baxis\":{\"gridcolor\":\"white\",\"linecolor\":\"white\",\"ticks\":\"\"},\"caxis\":{\"gridcolor\":\"white\",\"linecolor\":\"white\",\"ticks\":\"\"}},\"coloraxis\":{\"colorbar\":{\"outlinewidth\":0,\"ticks\":\"\"}},\"colorscale\":{\"sequential\":[[0.0,\"#0d0887\"],[0.1111111111111111,\"#46039f\"],[0.2222222222222222,\"#7201a8\"],[0.3333333333333333,\"#9c179e\"],[0.4444444444444444,\"#bd3786\"],[0.5555555555555556,\"#d8576b\"],[0.6666666666666666,\"#ed7953\"],[0.7777777777777778,\"#fb9f3a\"],[0.8888888888888888,\"#fdca26\"],[1.0,\"#f0f921\"]],\"sequentialminus\":[[0.0,\"#0d0887\"],[0.1111111111111111,\"#46039f\"],[0.2222222222222222,\"#7201a8\"],[0.3333333333333333,\"#9c179e\"],[0.4444444444444444,\"#bd3786\"],[0.5555555555555556,\"#d8576b\"],[0.6666666666666666,\"#ed7953\"],[0.7777777777777778,\"#fb9f3a\"],[0.8888888888888888,\"#fdca26\"],[1.0,\"#f0f921\"]],\"diverging\":[[0,\"#8e0152\"],[0.1,\"#c51b7d\"],[0.2,\"#de77ae\"],[0.3,\"#f1b6da\"],[0.4,\"#fde0ef\"],[0.5,\"#f7f7f7\"],[0.6,\"#e6f5d0\"],[0.7,\"#b8e186\"],[0.8,\"#7fbc41\"],[0.9,\"#4d9221\"],[1,\"#276419\"]]},\"xaxis\":{\"gridcolor\":\"white\",\"linecolor\":\"white\",\"ticks\":\"\",\"title\":{\"standoff\":15},\"zerolinecolor\":\"white\",\"automargin\":true,\"zerolinewidth\":2},\"yaxis\":{\"gridcolor\":\"white\",\"linecolor\":\"white\",\"ticks\":\"\",\"title\":{\"standoff\":15},\"zerolinecolor\":\"white\",\"automargin\":true,\"zerolinewidth\":2},\"scene\":{\"xaxis\":{\"backgroundcolor\":\"#E5ECF6\",\"gridcolor\":\"white\",\"linecolor\":\"white\",\"showbackground\":true,\"ticks\":\"\",\"zerolinecolor\":\"white\",\"gridwidth\":2},\"yaxis\":{\"backgroundcolor\":\"#E5ECF6\",\"gridcolor\":\"white\",\"linecolor\":\"white\",\"showbackground\":true,\"ticks\":\"\",\"zerolinecolor\":\"white\",\"gridwidth\":2},\"zaxis\":{\"backgroundcolor\":\"#E5ECF6\",\"gridcolor\":\"white\",\"linecolor\":\"white\",\"showbackground\":true,\"ticks\":\"\",\"zerolinecolor\":\"white\",\"gridwidth\":2}},\"shapedefaults\":{\"line\":{\"color\":\"#2a3f5f\"}},\"annotationdefaults\":{\"arrowcolor\":\"#2a3f5f\",\"arrowhead\":0,\"arrowwidth\":1},\"geo\":{\"bgcolor\":\"white\",\"landcolor\":\"#E5ECF6\",\"subunitcolor\":\"white\",\"showland\":true,\"showlakes\":true,\"lakecolor\":\"white\"},\"title\":{\"x\":0.05},\"mapbox\":{\"style\":\"light\"}}},\"xaxis\":{\"anchor\":\"y\",\"domain\":[0.0,1.0],\"title\":{\"text\":\"Repeat Cycle (days)\"}},\"yaxis\":{\"anchor\":\"x\",\"domain\":[0.0,1.0],\"title\":{\"text\":\"Orbit Height (km)\"}},\"legend\":{\"title\":{\"text\":\"Organisation\"},\"tracegroupgap\":0},\"margin\":{\"t\":60}},                        {\"responsive\": true}                    ).then(function(){\n",
       "                            \n",
       "var gd = document.getElementById('6b202155-c4d0-40d6-b1f6-e61e760e204a');\n",
       "var x = new MutationObserver(function (mutations, observer) {{\n",
       "        var display = window.getComputedStyle(gd).display;\n",
       "        if (!display || display === 'none') {{\n",
       "            console.log([gd, 'removed!']);\n",
       "            Plotly.purge(gd);\n",
       "            observer.disconnect();\n",
       "        }}\n",
       "}});\n",
       "\n",
       "// Listen for the removal of the full notebook cells\n",
       "var notebookContainer = gd.closest('#notebook-container');\n",
       "if (notebookContainer) {{\n",
       "    x.observe(notebookContainer, {childList: true});\n",
       "}}\n",
       "\n",
       "// Listen for the clearing of the current output cell\n",
       "var outputEl = gd.closest('.output');\n",
       "if (outputEl) {{\n",
       "    x.observe(outputEl, {childList: true});\n",
       "}}\n",
       "\n",
       "                        })                };                });            </script>        </div>"
      ]
     },
     "metadata": {},
     "output_type": "display_data"
    }
   ],
   "source": [
    "fig = px.scatter(data_frame=df, x='Repeat Cycle (days)', y='Orbit Height (km)', color='Organisation')\n",
    "fig.show()"
   ]
  },
  {
   "cell_type": "code",
   "execution_count": 14,
   "id": "0ee7da98",
   "metadata": {
    "execution": {
     "iopub.execute_input": "2022-06-30T02:54:34.317553Z",
     "iopub.status.busy": "2022-06-30T02:54:34.317147Z",
     "iopub.status.idle": "2022-06-30T02:54:34.410282Z",
     "shell.execute_reply": "2022-06-30T02:54:34.409225Z"
    },
    "papermill": {
     "duration": 0.104673,
     "end_time": "2022-06-30T02:54:34.412934",
     "exception": false,
     "start_time": "2022-06-30T02:54:34.308261",
     "status": "completed"
    },
    "tags": []
   },
   "outputs": [
    {
     "data": {
      "text/html": [
       "<div>                            <div id=\"e2f17b6c-f621-4615-a354-80159df203ea\" class=\"plotly-graph-div\" style=\"height:525px; width:100%;\"></div>            <script type=\"text/javascript\">                require([\"plotly\"], function(Plotly) {                    window.PLOTLYENV=window.PLOTLYENV || {};                                    if (document.getElementById(\"e2f17b6c-f621-4615-a354-80159df203ea\")) {                    Plotly.newPlot(                        \"e2f17b6c-f621-4615-a354-80159df203ea\",                        [{\"alignmentgroup\":\"True\",\"hovertemplate\":\"Orbit Type=%{x}<br>Orbit Height (km)=%{y}<extra></extra>\",\"legendgroup\":\"\",\"marker\":{\"color\":\"#636efa\"},\"name\":\"\",\"notched\":false,\"offsetgroup\":\"\",\"orientation\":\"v\",\"showlegend\":false,\"x\":[\"Sun Synchronous\",\"Sun Synchronous\",\"Sun Synchronous\",\"Non Sun Synchronous\",\"Sun Synchronous\",\"Sun Synchronous\",\"Sun Synchronous\",\"Sun Synchronous\",\"Sun Synchronous\",\"Sun Synchronous\",\"Sun Synchronous\",\"Sun Synchronous\",\"Sun Synchronous\",\"Sun Synchronous\",\"Sun Synchronous\",\"Sun Synchronous\",\"Sun Synchronous\",\"Sun Synchronous\",\"Sun Synchronous\",\"Sun Synchronous\",\"Sun Synchronous\",\"Sun Synchronous\",\"Sun Synchronous\",\"Sun Synchronous\",\"Sun Synchronous\",\"Sun Synchronous\",\"Sun Synchronous\",\"Sun Synchronous\",\"Sun Synchronous\",\"Sun Synchronous\",\"Sun Synchronous\",\"Sun Synchronous\",\"Sun Synchronous\",\"Sun Synchronous\",\"Sun Synchronous\",\"Sun Synchronous\",\"Sun Synchronous\",\"Sun Synchronous\",\"Sun Synchronous\",\"Sun Synchronous\",\"Sun Synchronous\",\"Sun Synchronous\",\"Geostationary\",\"Sun Synchronous\",\"Sun Synchronous\",\"Sun Synchronous\",\"Sun Synchronous\",\"Sun Synchronous\",\"Non Sun Synchronous\",\"Non Sun Synchronous\",\"Sun Synchronous\",\"Sun Synchronous\",\"near polar - sun synchronous\",\"Sun Synchronous\",\"Sun Synchronous\",\"Other\",\"Geostationary\",\"Geostationary\",\"Sun Synchronous\",\"Sun Synchronous\",\"Sun Synchronous\",\"Geostationary\",\"Geostationary\",\"Sun Synchronous\",\"Sun Synchronous\",\"Sun Synchronous\",\"Sun Synchronous\",\"Sun Synchronous\",\"Sun Synchronous\",\"Sun Synchronous\",\"Sun Synchronous\",\"Geostationary\",\"Geostationary\",\"Geostationary\",\"Geostationary\",\"Sun Synchronous\",\"Sun Synchronous\",\"Sun Synchronous\",\"Geostationary\",\"Sun Synchronous\",\"Circular\",\"Sun Synchronous\",\"Circular\",\"Sun Synchronous\",\"Circular\",\"Sun Synchronous\",\"Sun Synchronous\",\"Sun Synchronous\",\"Geostationary\",\"Geostationary\",\"Sun Synchronous\",\"Sun Synchronous\",\"Sun Synchronous\",\"Sun Synchronous\",\"Geostationary\",\"Geostationary\",\"Sun Synchronous\",\"Geostationary\",\"Sun Synchronous\",\"Geostationary\",\"Geostationary\",\"Geostationary\",\"Geostationary\",\"Geostationary\",\"Geostationary\",\"Geostationary\",\"Geostationary\",\"Geostationary\",\"Geostationary\",\"Geostationary\",\"Geostationary\",\"Sun Synchronous\",\"Sun Synchronous\",\"Sun Synchronous\",\"Non Sun Synchronous\",\"Near polar\",\"Near polar\",\"Geostationary\",\"Geostationary\",\"Sun Synchronous\",\"Other\",\"Sun Synchronous\",\"Near polar\",\"Near polar\",\"Sun Synchronous\",\"Sun Synchronous\",\"Sun Synchronous\",\"Sun Synchronous\",\"Sun Synchronous\",\"Sun Synchronous\",\"Geostationary\",\"Geostationary\",\"Geostationary\",\"Geostationary\",\"Sun Synchronous\",\"Sun Synchronous\",\"Sun Synchronous\",\"Sun Synchronous\",\"Sun Synchronous\",\"Sun Synchronous\",\"Non Sun Synchronous\",\"Non Sun Synchronous\",\"Non Sun Synchronous\",\"Sun Synchronous\",\"Sun Synchronous\",\"Sun Synchronous\",\"Sun Synchronous\",\"Sun Synchronous\",\"Sun Synchronous\",\"Sun Synchronous\",\"Sun Synchronous\",\"Sun Synchronous\",\"Sun Synchronous\",\"Sun Synchronous\",\"Sun Synchronous\",\"Sun Synchronous\",\"Sun Synchronous\",\"Sun Synchronous\",\"Sun Synchronous\",\"Sun Synchronous\",\"Sun Synchronous\",\"Sun Synchronous\",\"Sun Synchronous\",\"Sun Synchronous\",\"Sun Synchronous\",\"Sun Synchronous\",\"Sun Synchronous\",\"Sun Synchronous\",\"Sun Synchronous\",\"Sun Synchronous\",\"Sun Synchronous\",\"Sun Synchronous\",\"Sun Synchronous\",\"Sun Synchronous\",\"Geostationary\",\"Geostationary\",\"Geostationary\",\"Geostationary\",\"Geostationary\",\"Geostationary\",\"Geostationary\",\"Sun Synchronous\",\"Sun Synchronous\",\"Sun Synchronous\",\"Sun Synchronous\",\"Sun Synchronous\",\"Sun Synchronous\",\"Sun Synchronous\",\"Sun Synchronous\",\"Sun Synchronous\",\"Sun Synchronous\",\"Sun Synchronous\",\"Geostationary\",\"Geostationary\",\"Geostationary\",\"Geostationary\",\"Geostationary\",\"Geostationary\",\"Sun Synchronous\",\"Geostationary\",\"Geostationary\",\"Sun Synchronous\",\"Sun Synchronous\",\"Sun Synchronous\",\"Sun Synchronous\",\"Sun Synchronous\",\"near polar - sun synchronous\",\"near polar - sun synchronous\",\"near polar - sun synchronous\",\"near polar - sun synchronous\",\"near polar - sun synchronous\",\"near polar - sun synchronous\",\"near polar - sun synchronous\",\"near polar - sun synchronous\",\"near polar - sun synchronous\",\"Sun Synchronous\",\"Sun Synchronous\",\"Sun Synchronous\",\"Sun Synchronous\",\"Sun Synchronous\",\"Sun Synchronous\",\"Other\",\"Sun Synchronous\",\"Sun Synchronous\",\"Sun Synchronous\",\"Sun Synchronous\",\"Sun Synchronous\",\"Sun Synchronous\",\"Sun Synchronous\",\"Sun Synchronous\",\"Sun Synchronous\",\"Sun Synchronous\",\"Sun Synchronous\",\"Sun Synchronous\",\"Sun Synchronous\",\"Sun Synchronous\",\"Sun Synchronous\",\"Sun Synchronous\",\"Sun Synchronous\",\"Sun Synchronous\",\"Sun Synchronous\",\"Sun Synchronous\",\"Sun Synchronous\",\"Sun Synchronous\",\"Sun Synchronous\",\"Sun Synchronous\",\"Sun Synchronous\",\"Sun Synchronous\",\"Sun Synchronous\",\"Sun Synchronous\",\"Sun Synchronous\",\"Sun Synchronous\",\"Sun Synchronous\",\"Other\",\"Sun Synchronous\",\"Sun Synchronous\",\"Sun Synchronous\",\"Non Sun Synchronous\",\"Sun Synchronous\",\"Sun Synchronous\",\"Sun Synchronous\",\"Sun Synchronous\",\"Sun Synchronous\",\"Sun Synchronous\",\"Sun Synchronous\",\"Sun Synchronous\",\"Sun Synchronous\",\"Other\",\"Sun Synchronous\",\"Sun Synchronous\",\"Circular\",\"Sun Synchronous\",\"Sun Synchronous\",\"Sun Synchronous\",\"Sun Synchronous\",\"Sun Synchronous\",\"Sun Synchronous\",\"Sun Synchronous\",\"Sun Synchronous\",\"Sun Synchronous\",\"Sun Synchronous\",\"Sun Synchronous\",\"Sun Synchronous\",\"Sun Synchronous\",\"Sun Synchronous\",\"Non Sun Synchronous\",\"Non Sun Synchronous\",\"Non Sun Synchronous\",\"Sun Synchronous\",\"Sun Synchronous\",\"Sun Synchronous\",\"Sun Synchronous\",\"Sun Synchronous\",\"Sun Synchronous\",\"Sun Synchronous\",\"Sun Synchronous\",\"Circular\",\"Sun Synchronous\",\"Sun Synchronous\",\"Sun Synchronous\",\"Sun Synchronous\",\"Sun Synchronous\",\"Sun Synchronous\",\"Sun Synchronous\",\"Other\",\"Sun Synchronous\",\"Sun Synchronous\",\"Near polar\",\"Circular\",\"Sun Synchronous\",\"Other\",\"Sun Synchronous\",\"Other\",\"Geostationary\",\"Sun Synchronous\",\"Sun Synchronous\",\"Sun Synchronous\",\"Non Sun Synchronous\",\"Non Sun Synchronous\",\"Sun Synchronous\",\"Non Sun Synchronous\",\"Non Sun Synchronous\",\"Sun Synchronous\",\"Sun Synchronous\",\"Sun Synchronous\",\"Sun Synchronous\",\"Sun Synchronous\",\"Sun Synchronous\",\"Sun Synchronous\",\"Sun Synchronous\",\"Non Sun Synchronous\",\"Sun Synchronous\",\"Sun Synchronous\",\"Sun Synchronous\",\"Sun Synchronous\",\"Other\",\"Sun Synchronous\"],\"x0\":\" \",\"xaxis\":\"x\",\"y\":[\"797\",\"803\",\"320\",\"370\",\"702\",\"628\",\"669\",\"628\",\"686\",\"680\",\"686\",\"670\",\"705\",\"504\",\"504\",\"705\",\"686\",\"686\",\"660\",\"572\",\"500\",\"500\",\"500\",\"500\",\"500\",\"705\",\"618\",\"635\",\"505\",\"505\",\"505\",\"505\",\"635\",\"637\",\"509\",\"778\",\"778\",\"778\",\"778\",\"628\",\"519\",\"705\",\"35786\",\"830\",\"620\",\"619\",\"619\",\"800\",\"717\",\"500\",\"715\",\"647\",\"830\",\"740\",\"393\",\"408\",\" \",\"36000\",\"652\",\"783\",\"705\",\"36000\",\"35786\",\"529\",\"530\",\"520\",\"510\",\"785\",\"785\",\"803\",\"863\",\" \",\" \",\"36000\",\"3600\",\"836\",\"836\",\"836\",\"35786\",\"815\",\"600\",\"891\",\"800\",\"720\",\"550\",\" \",\"798\",\"700\",\"35786\",\"35786\",\"681\",\"800\",\"650\",\"620\",\" \",\"35786\",\"705\",\" \",\"235\",\"35800\",\"35800\",\"35800\",\"35800\",\"35800\",\"35800\",\"35786\",\"35786\",\"35888\",\"35800\",\"35800\",\" \",\"700\",\"666\",\"613\",\"407\",\"437\",\"490\",\"35800\",\"35800\",\"649\",\"798\",\"636\",\"600\",\"498\",\"505\",\"590\",\"590\",\"565\",\"681\",\"635\",\" \",\" \",\" \",\"35786\",\"904\",\"904\",\"817\",\"824\",\"817\",\"817\",\"1337\",\"1336\",\"1336\",\"568\",\"824\",\" \",\" \",\"510\",\"510\",\"510\",\"510\",\"510\",\"685\",\"685\",\"685\",\"528\",\"550\",\"505\",\"685\",\"907\",\"908\",\"915\",\"705\",\"705\",\"705\",\"705\",\"705\",\"625\",\"867\",\"506\",\"1012\",\"821\",\"832\",\"825\",\"35786\",\"35786\",\"36000\",\"36000\",\"36000\",\"36000\",\"36000\",\"817\",\"817\",\"817\",\"817\",\"817\",\"817\",\"817\",\"817\",\"817\",\"909\",\"909\",\"35786\",\"35786\",\"35786\",\"35786\",\"35786\",\"35786\",\"575\",\"35800\",\"35800\",\"686\",\"700\",\"700\",\"955\",\" \",\"833\",\"870\",\"833\",\"870\",\"833\",\"870\",\"833\",\"854\",\"870\",\"824\",\"580\",\"720\",\"720\",\"720\",\"705\",\"407\",\"625\",\"676\",\"705\",\"400\",\"600\",\"455\",\"495\",\"485\",\"510\",\"495\",\"500\",\"485\",\"585\",\"500\",\"694\",\"694\",\"620\",\"620\",\"620\",\"620\",\"400\",\"615\",\"615\",\"820\",\"450\",\"803\",\"600\",\"798\",\"798\",\"630\",\"700\",\"685\",\"817\",\"817\",\"817\",\"480\",\"835\",\"678\",\"536\",\"550\",\"440\",\"705\",\"657\",\"620\",\"620\",\" \",\"800\",\"720\",\"650\",\"800\",\"693\",\"693\",\"693\",\"693\",\"786\",\"786\",\"786\",\"786\",\"814\",\"814\",\"814\",\"814\",\"824\",\"1336\",\"1336\",\" \",\"505\",\"578\",\"637\",\"515\",\"500\",\"500\",\"685\",\"758\",\"645\",\"832\",\"832\",\"832\",\"832\",\"832\",\"694\",\"694\",\"233\",\" \",\"824\",\"530\",\"891\",\"760\",\"515\",\"676\",\"800\",\"35786\",\"705\",\"514\",\"822\",\"625\",\"1336\",\"686\",\"350\",\"470\",\"686\",\"686\",\" \",\"720\",\"583\",\"500\",\"505\",\"680\",\"500\",\"496\",\"770\",\"617\",\"617\",\"450\",\" \"],\"y0\":\" \",\"yaxis\":\"y\",\"type\":\"box\"}],                        {\"template\":{\"data\":{\"histogram2dcontour\":[{\"type\":\"histogram2dcontour\",\"colorbar\":{\"outlinewidth\":0,\"ticks\":\"\"},\"colorscale\":[[0.0,\"#0d0887\"],[0.1111111111111111,\"#46039f\"],[0.2222222222222222,\"#7201a8\"],[0.3333333333333333,\"#9c179e\"],[0.4444444444444444,\"#bd3786\"],[0.5555555555555556,\"#d8576b\"],[0.6666666666666666,\"#ed7953\"],[0.7777777777777778,\"#fb9f3a\"],[0.8888888888888888,\"#fdca26\"],[1.0,\"#f0f921\"]]}],\"choropleth\":[{\"type\":\"choropleth\",\"colorbar\":{\"outlinewidth\":0,\"ticks\":\"\"}}],\"histogram2d\":[{\"type\":\"histogram2d\",\"colorbar\":{\"outlinewidth\":0,\"ticks\":\"\"},\"colorscale\":[[0.0,\"#0d0887\"],[0.1111111111111111,\"#46039f\"],[0.2222222222222222,\"#7201a8\"],[0.3333333333333333,\"#9c179e\"],[0.4444444444444444,\"#bd3786\"],[0.5555555555555556,\"#d8576b\"],[0.6666666666666666,\"#ed7953\"],[0.7777777777777778,\"#fb9f3a\"],[0.8888888888888888,\"#fdca26\"],[1.0,\"#f0f921\"]]}],\"heatmap\":[{\"type\":\"heatmap\",\"colorbar\":{\"outlinewidth\":0,\"ticks\":\"\"},\"colorscale\":[[0.0,\"#0d0887\"],[0.1111111111111111,\"#46039f\"],[0.2222222222222222,\"#7201a8\"],[0.3333333333333333,\"#9c179e\"],[0.4444444444444444,\"#bd3786\"],[0.5555555555555556,\"#d8576b\"],[0.6666666666666666,\"#ed7953\"],[0.7777777777777778,\"#fb9f3a\"],[0.8888888888888888,\"#fdca26\"],[1.0,\"#f0f921\"]]}],\"heatmapgl\":[{\"type\":\"heatmapgl\",\"colorbar\":{\"outlinewidth\":0,\"ticks\":\"\"},\"colorscale\":[[0.0,\"#0d0887\"],[0.1111111111111111,\"#46039f\"],[0.2222222222222222,\"#7201a8\"],[0.3333333333333333,\"#9c179e\"],[0.4444444444444444,\"#bd3786\"],[0.5555555555555556,\"#d8576b\"],[0.6666666666666666,\"#ed7953\"],[0.7777777777777778,\"#fb9f3a\"],[0.8888888888888888,\"#fdca26\"],[1.0,\"#f0f921\"]]}],\"contourcarpet\":[{\"type\":\"contourcarpet\",\"colorbar\":{\"outlinewidth\":0,\"ticks\":\"\"}}],\"contour\":[{\"type\":\"contour\",\"colorbar\":{\"outlinewidth\":0,\"ticks\":\"\"},\"colorscale\":[[0.0,\"#0d0887\"],[0.1111111111111111,\"#46039f\"],[0.2222222222222222,\"#7201a8\"],[0.3333333333333333,\"#9c179e\"],[0.4444444444444444,\"#bd3786\"],[0.5555555555555556,\"#d8576b\"],[0.6666666666666666,\"#ed7953\"],[0.7777777777777778,\"#fb9f3a\"],[0.8888888888888888,\"#fdca26\"],[1.0,\"#f0f921\"]]}],\"surface\":[{\"type\":\"surface\",\"colorbar\":{\"outlinewidth\":0,\"ticks\":\"\"},\"colorscale\":[[0.0,\"#0d0887\"],[0.1111111111111111,\"#46039f\"],[0.2222222222222222,\"#7201a8\"],[0.3333333333333333,\"#9c179e\"],[0.4444444444444444,\"#bd3786\"],[0.5555555555555556,\"#d8576b\"],[0.6666666666666666,\"#ed7953\"],[0.7777777777777778,\"#fb9f3a\"],[0.8888888888888888,\"#fdca26\"],[1.0,\"#f0f921\"]]}],\"mesh3d\":[{\"type\":\"mesh3d\",\"colorbar\":{\"outlinewidth\":0,\"ticks\":\"\"}}],\"scatter\":[{\"fillpattern\":{\"fillmode\":\"overlay\",\"size\":10,\"solidity\":0.2},\"type\":\"scatter\"}],\"parcoords\":[{\"type\":\"parcoords\",\"line\":{\"colorbar\":{\"outlinewidth\":0,\"ticks\":\"\"}}}],\"scatterpolargl\":[{\"type\":\"scatterpolargl\",\"marker\":{\"colorbar\":{\"outlinewidth\":0,\"ticks\":\"\"}}}],\"bar\":[{\"error_x\":{\"color\":\"#2a3f5f\"},\"error_y\":{\"color\":\"#2a3f5f\"},\"marker\":{\"line\":{\"color\":\"#E5ECF6\",\"width\":0.5},\"pattern\":{\"fillmode\":\"overlay\",\"size\":10,\"solidity\":0.2}},\"type\":\"bar\"}],\"scattergeo\":[{\"type\":\"scattergeo\",\"marker\":{\"colorbar\":{\"outlinewidth\":0,\"ticks\":\"\"}}}],\"scatterpolar\":[{\"type\":\"scatterpolar\",\"marker\":{\"colorbar\":{\"outlinewidth\":0,\"ticks\":\"\"}}}],\"histogram\":[{\"marker\":{\"pattern\":{\"fillmode\":\"overlay\",\"size\":10,\"solidity\":0.2}},\"type\":\"histogram\"}],\"scattergl\":[{\"type\":\"scattergl\",\"marker\":{\"colorbar\":{\"outlinewidth\":0,\"ticks\":\"\"}}}],\"scatter3d\":[{\"type\":\"scatter3d\",\"line\":{\"colorbar\":{\"outlinewidth\":0,\"ticks\":\"\"}},\"marker\":{\"colorbar\":{\"outlinewidth\":0,\"ticks\":\"\"}}}],\"scattermapbox\":[{\"type\":\"scattermapbox\",\"marker\":{\"colorbar\":{\"outlinewidth\":0,\"ticks\":\"\"}}}],\"scatterternary\":[{\"type\":\"scatterternary\",\"marker\":{\"colorbar\":{\"outlinewidth\":0,\"ticks\":\"\"}}}],\"scattercarpet\":[{\"type\":\"scattercarpet\",\"marker\":{\"colorbar\":{\"outlinewidth\":0,\"ticks\":\"\"}}}],\"carpet\":[{\"aaxis\":{\"endlinecolor\":\"#2a3f5f\",\"gridcolor\":\"white\",\"linecolor\":\"white\",\"minorgridcolor\":\"white\",\"startlinecolor\":\"#2a3f5f\"},\"baxis\":{\"endlinecolor\":\"#2a3f5f\",\"gridcolor\":\"white\",\"linecolor\":\"white\",\"minorgridcolor\":\"white\",\"startlinecolor\":\"#2a3f5f\"},\"type\":\"carpet\"}],\"table\":[{\"cells\":{\"fill\":{\"color\":\"#EBF0F8\"},\"line\":{\"color\":\"white\"}},\"header\":{\"fill\":{\"color\":\"#C8D4E3\"},\"line\":{\"color\":\"white\"}},\"type\":\"table\"}],\"barpolar\":[{\"marker\":{\"line\":{\"color\":\"#E5ECF6\",\"width\":0.5},\"pattern\":{\"fillmode\":\"overlay\",\"size\":10,\"solidity\":0.2}},\"type\":\"barpolar\"}],\"pie\":[{\"automargin\":true,\"type\":\"pie\"}]},\"layout\":{\"autotypenumbers\":\"strict\",\"colorway\":[\"#636efa\",\"#EF553B\",\"#00cc96\",\"#ab63fa\",\"#FFA15A\",\"#19d3f3\",\"#FF6692\",\"#B6E880\",\"#FF97FF\",\"#FECB52\"],\"font\":{\"color\":\"#2a3f5f\"},\"hovermode\":\"closest\",\"hoverlabel\":{\"align\":\"left\"},\"paper_bgcolor\":\"white\",\"plot_bgcolor\":\"#E5ECF6\",\"polar\":{\"bgcolor\":\"#E5ECF6\",\"angularaxis\":{\"gridcolor\":\"white\",\"linecolor\":\"white\",\"ticks\":\"\"},\"radialaxis\":{\"gridcolor\":\"white\",\"linecolor\":\"white\",\"ticks\":\"\"}},\"ternary\":{\"bgcolor\":\"#E5ECF6\",\"aaxis\":{\"gridcolor\":\"white\",\"linecolor\":\"white\",\"ticks\":\"\"},\"baxis\":{\"gridcolor\":\"white\",\"linecolor\":\"white\",\"ticks\":\"\"},\"caxis\":{\"gridcolor\":\"white\",\"linecolor\":\"white\",\"ticks\":\"\"}},\"coloraxis\":{\"colorbar\":{\"outlinewidth\":0,\"ticks\":\"\"}},\"colorscale\":{\"sequential\":[[0.0,\"#0d0887\"],[0.1111111111111111,\"#46039f\"],[0.2222222222222222,\"#7201a8\"],[0.3333333333333333,\"#9c179e\"],[0.4444444444444444,\"#bd3786\"],[0.5555555555555556,\"#d8576b\"],[0.6666666666666666,\"#ed7953\"],[0.7777777777777778,\"#fb9f3a\"],[0.8888888888888888,\"#fdca26\"],[1.0,\"#f0f921\"]],\"sequentialminus\":[[0.0,\"#0d0887\"],[0.1111111111111111,\"#46039f\"],[0.2222222222222222,\"#7201a8\"],[0.3333333333333333,\"#9c179e\"],[0.4444444444444444,\"#bd3786\"],[0.5555555555555556,\"#d8576b\"],[0.6666666666666666,\"#ed7953\"],[0.7777777777777778,\"#fb9f3a\"],[0.8888888888888888,\"#fdca26\"],[1.0,\"#f0f921\"]],\"diverging\":[[0,\"#8e0152\"],[0.1,\"#c51b7d\"],[0.2,\"#de77ae\"],[0.3,\"#f1b6da\"],[0.4,\"#fde0ef\"],[0.5,\"#f7f7f7\"],[0.6,\"#e6f5d0\"],[0.7,\"#b8e186\"],[0.8,\"#7fbc41\"],[0.9,\"#4d9221\"],[1,\"#276419\"]]},\"xaxis\":{\"gridcolor\":\"white\",\"linecolor\":\"white\",\"ticks\":\"\",\"title\":{\"standoff\":15},\"zerolinecolor\":\"white\",\"automargin\":true,\"zerolinewidth\":2},\"yaxis\":{\"gridcolor\":\"white\",\"linecolor\":\"white\",\"ticks\":\"\",\"title\":{\"standoff\":15},\"zerolinecolor\":\"white\",\"automargin\":true,\"zerolinewidth\":2},\"scene\":{\"xaxis\":{\"backgroundcolor\":\"#E5ECF6\",\"gridcolor\":\"white\",\"linecolor\":\"white\",\"showbackground\":true,\"ticks\":\"\",\"zerolinecolor\":\"white\",\"gridwidth\":2},\"yaxis\":{\"backgroundcolor\":\"#E5ECF6\",\"gridcolor\":\"white\",\"linecolor\":\"white\",\"showbackground\":true,\"ticks\":\"\",\"zerolinecolor\":\"white\",\"gridwidth\":2},\"zaxis\":{\"backgroundcolor\":\"#E5ECF6\",\"gridcolor\":\"white\",\"linecolor\":\"white\",\"showbackground\":true,\"ticks\":\"\",\"zerolinecolor\":\"white\",\"gridwidth\":2}},\"shapedefaults\":{\"line\":{\"color\":\"#2a3f5f\"}},\"annotationdefaults\":{\"arrowcolor\":\"#2a3f5f\",\"arrowhead\":0,\"arrowwidth\":1},\"geo\":{\"bgcolor\":\"white\",\"landcolor\":\"#E5ECF6\",\"subunitcolor\":\"white\",\"showland\":true,\"showlakes\":true,\"lakecolor\":\"white\"},\"title\":{\"x\":0.05},\"mapbox\":{\"style\":\"light\"}}},\"xaxis\":{\"anchor\":\"y\",\"domain\":[0.0,1.0],\"title\":{\"text\":\"Orbit Type\"}},\"yaxis\":{\"anchor\":\"x\",\"domain\":[0.0,1.0],\"title\":{\"text\":\"Orbit Height (km)\"}},\"legend\":{\"tracegroupgap\":0},\"margin\":{\"t\":60},\"boxmode\":\"group\"},                        {\"responsive\": true}                    ).then(function(){\n",
       "                            \n",
       "var gd = document.getElementById('e2f17b6c-f621-4615-a354-80159df203ea');\n",
       "var x = new MutationObserver(function (mutations, observer) {{\n",
       "        var display = window.getComputedStyle(gd).display;\n",
       "        if (!display || display === 'none') {{\n",
       "            console.log([gd, 'removed!']);\n",
       "            Plotly.purge(gd);\n",
       "            observer.disconnect();\n",
       "        }}\n",
       "}});\n",
       "\n",
       "// Listen for the removal of the full notebook cells\n",
       "var notebookContainer = gd.closest('#notebook-container');\n",
       "if (notebookContainer) {{\n",
       "    x.observe(notebookContainer, {childList: true});\n",
       "}}\n",
       "\n",
       "// Listen for the clearing of the current output cell\n",
       "var outputEl = gd.closest('.output');\n",
       "if (outputEl) {{\n",
       "    x.observe(outputEl, {childList: true});\n",
       "}}\n",
       "\n",
       "                        })                };                });            </script>        </div>"
      ]
     },
     "metadata": {},
     "output_type": "display_data"
    }
   ],
   "source": [
    "fig = px.box(data_frame=df, x='Orbit Type', y='Orbit Height (km)')\n",
    "fig.show()"
   ]
  },
  {
   "cell_type": "markdown",
   "id": "c734a3be",
   "metadata": {
    "papermill": {
     "duration": 0.00757,
     "end_time": "2022-06-30T02:54:34.428528",
     "exception": false,
     "start_time": "2022-06-30T02:54:34.420958",
     "status": "completed"
    },
    "tags": []
   },
   "source": [
    "Reference\n",
    "https://www.kaggle.com/code/sagarsy2050/the-satellites-in-the-orbit/notebook"
   ]
  }
 ],
 "metadata": {
  "kernelspec": {
   "display_name": "Python 3",
   "language": "python",
   "name": "python3"
  },
  "language_info": {
   "codemirror_mode": {
    "name": "ipython",
    "version": 3
   },
   "file_extension": ".py",
   "mimetype": "text/x-python",
   "name": "python",
   "nbconvert_exporter": "python",
   "pygments_lexer": "ipython3",
   "version": "3.7.12"
  },
  "papermill": {
   "default_parameters": {},
   "duration": 14.276054,
   "end_time": "2022-06-30T02:54:35.260834",
   "environment_variables": {},
   "exception": null,
   "input_path": "__notebook__.ipynb",
   "output_path": "__notebook__.ipynb",
   "parameters": {},
   "start_time": "2022-06-30T02:54:20.984780",
   "version": "2.3.4"
  }
 },
 "nbformat": 4,
 "nbformat_minor": 5
}
